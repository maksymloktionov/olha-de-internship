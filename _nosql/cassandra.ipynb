{
 "cells": [
  {
   "cell_type": "code",
   "execution_count": null,
   "metadata": {},
   "outputs": [],
   "source": [
    "%pip install cassandra-driver\n",
    "%pip install pandas\n"
   ]
  },
  {
   "cell_type": "code",
   "execution_count": null,
   "metadata": {},
   "outputs": [],
   "source": [
    "import pandas as pd\n",
    "\n",
    "data = pd.read_csv(\"/home/olha/olha-de-internship/_nosql/Student Depression Dataset.csv\")\n",
    "print(data.dtypes)\n"
   ]
  },
  {
   "cell_type": "code",
   "execution_count": null,
   "metadata": {},
   "outputs": [],
   "source": [
    "from cassandra.cluster import Cluster\n",
    "from cassandra.auth import PlainTextAuthProvider\n",
    "auth_provider = PlainTextAuthProvider(username='admin', password='admin')\n",
    "cluster = Cluster(['localhost'], port=9042, auth_provider=auth_provider)\n",
    "session = cluster.connect()\n",
    "\n",
    "def find_keyspaces():\n",
    "    key_spaces = session.execute('DESC KEYSPACES')\n",
    "    for key_space in key_spaces:\n",
    "        print(key_space)\n",
    "        \n",
    "find_keyspaces()        "
   ]
  },
  {
   "cell_type": "code",
   "execution_count": null,
   "metadata": {},
   "outputs": [],
   "source": [
    "create_keyspace_query = '''\n",
    "    CREATE KEYSPACE studentdeprsn WITH REPLICATION = {'class' : 'SimpleStrategy','replication_factor' : 1};\n",
    "'''\n",
    "\n",
    "session.execute(create_keyspace_query)\n",
    "\n",
    "find_keyspaces()"
   ]
  },
  {
   "cell_type": "code",
   "execution_count": null,
   "metadata": {},
   "outputs": [],
   "source": [
    "session.execute('USE studentdeprsn')\n"
   ]
  },
  {
   "cell_type": "code",
   "execution_count": null,
   "metadata": {},
   "outputs": [],
   "source": [
    "create_table_query = '''\n",
    "CREATE TABLE student_depression (\n",
    "    city text,\n",
    "    gender text,\n",
    "    id int,\n",
    "    age int,\n",
    "    gpa float,\n",
    "    sleep_duration int,\n",
    "    profession text,\n",
    "    work_pressure int,\n",
    "    academic_pressure int,\n",
    "    study_satisfaction int,\n",
    "    job_satisfaction int,\n",
    "    dietary_habits text,\n",
    "    loaded_at timestamp,\n",
    "    PRIMARY KEY ((city, gender), id)\n",
    ")\n",
    "'''\n",
    "session.execute(create_table_query)\n",
    "\n",
    "\n",
    "for table in session.execute('DESC TABLES'):\n",
    "    print(table)"
   ]
  },
  {
   "cell_type": "code",
   "execution_count": null,
   "metadata": {},
   "outputs": [],
   "source": [
    "from datetime import datetime\n",
    "insert_query = '''\n",
    "    INSERT INTO student_depression (city, gender, id, age, gpa, sleep_duration, profession,work_pressure,academic_pressure, study_satisfaction, job_satisfaction, dieatary_habits, loaded_at )\n",
    "    VALUES (%s, %s, %s, %s, %s, %s, %s, %s, %s, %s, %s, %s, %s)\n",
    "'''\n",
    "\n",
    "for _, row in data.iterrows():\n",
    "    session.execute(insert_query, (\n",
    "        row['City'],                 \n",
    "        row['Gender'],               \n",
    "        row['id'],                \n",
    "        row['Age'],\n",
    "        row['CGPA'],\n",
    "        row[\"Sleep Duration\"],\n",
    "        row['Profession'],\n",
    "        row[\"Work Pressure\"],\n",
    "        row[\"Academic Pressure\"],\n",
    "        row[\"Study Satisfaction\"],\n",
    "        row[\"Job Satisfaction\"],\n",
    "        row[\"Dietary Habits\"],\n",
    "        datetime.now()               \n",
    "    ))"
   ]
  },
  {
   "cell_type": "code",
   "execution_count": null,
   "metadata": {},
   "outputs": [],
   "source": [
    "\n",
    "create_new_table_query = '''\n",
    "    CREATE TABLE student_depression_new (\n",
    "        id int PRIMARY KEY,\n",
    "        gender text,\n",
    "        age float,  \n",
    "        city text,\n",
    "        gpa float,\n",
    "        sleep_duration text,\n",
    "        profession text,\n",
    "        work_pressure float,\n",
    "        academic_pressure float,\n",
    "        study_satisfaction float,\n",
    "        job_satisfaction float,\n",
    "        dietary_habits text,\n",
    "        loaded_at timestamp\n",
    "    )\n",
    "    \n",
    "'''\n",
    "session.execute(create_new_table_query)"
   ]
  },
  {
   "cell_type": "code",
   "execution_count": null,
   "metadata": {},
   "outputs": [],
   "source": [
    "from datetime import datetime\n",
    "\n",
    "\n",
    "insert_data = '''\n",
    "    INSERT INTO student_depression_new (\n",
    "        id, gender, age, city, gpa, sleep_duration, profession, \n",
    "        work_pressure, academic_pressure, study_satisfaction, \n",
    "        job_satisfaction, dietary_habits, loaded_at\n",
    "    )\n",
    "    VALUES (%s, %s, %s, %s, %s, %s, %s, %s, %s, %s, %s, %s, %s)\n",
    "'''\n",
    "\n",
    "truncate_data = '''\n",
    "    TRUNCATE TABLE student_depression_new\n",
    "'''\n",
    "session.execute(truncate_data)\n",
    "\n",
    "for _, row in data.iterrows():\n",
    "    session.execute(insert_data, (\n",
    "        row['id'],\n",
    "        row['Gender'],\n",
    "        float(row['Age']),\n",
    "        row['City'],\n",
    "        float(row['CGPA']),\n",
    "        row[\"Sleep Duration\"],\n",
    "        row['Profession'],\n",
    "        float(row[\"Work Pressure\"]),\n",
    "        float(row[\"Academic Pressure\"]),\n",
    "        float(row[\"Study Satisfaction\"]),\n",
    "        float(row[\"Job Satisfaction\"]),\n",
    "        row[\"Dietary Habits\"],\n",
    "        datetime.now()  \n",
    "    ))\n",
    "\n",
    "\n"
   ]
  },
  {
   "cell_type": "markdown",
   "metadata": {},
   "source": [
    "### Read"
   ]
  },
  {
   "cell_type": "code",
   "execution_count": null,
   "metadata": {},
   "outputs": [],
   "source": [
    "def read_all_records(table_name):\n",
    "    try:\n",
    "        return session.execute(\"SELECT * FROM {}\".format(table_name))\n",
    "    except Exception as e:\n",
    "        return \"Read fails with \" + e\n",
    "\n",
    "def print_records(records):\n",
    "    for record in records:\n",
    "        print(record)\n",
    "\n",
    "records = read_all_records('student_depression_new')\n",
    "\n",
    "print_records(records)"
   ]
  },
  {
   "cell_type": "markdown",
   "metadata": {},
   "source": [
    "### Filter"
   ]
  },
  {
   "cell_type": "code",
   "execution_count": null,
   "metadata": {},
   "outputs": [],
   "source": [
    "def read_records_by_city(table_name, city):\n",
    "    try:\n",
    "        return session.execute(\"SELECT * FROM {} WHERE city='{}' ALLOW FILTERING\".format(table_name, city))\n",
    "    except Exception as e:\n",
    "        return \"Read fails with \" + e\n",
    "\n",
    "print_records(read_records_by_city('student_depression_new', 'Agra'))"
   ]
  },
  {
   "cell_type": "markdown",
   "metadata": {},
   "source": [
    "### Update"
   ]
  },
  {
   "cell_type": "code",
   "execution_count": null,
   "metadata": {},
   "outputs": [],
   "source": [
    "def update_record(table_name, id, updated_response_value):\n",
    "    try:\n",
    "        return session.execute(\"UPDATE {} SET age={} WHERE id={}\".format(table_name, updated_response_value, id))\n",
    "    except Exception as e:\n",
    "        return f\"UPDATE fails with: {str(e)}\"\n",
    "\n",
    "update_record('student_depression_new', '12888', '35')"
   ]
  },
  {
   "cell_type": "markdown",
   "metadata": {},
   "source": [
    "### Delete"
   ]
  },
  {
   "cell_type": "code",
   "execution_count": null,
   "metadata": {},
   "outputs": [],
   "source": [
    "def delete_records_by_id(table_name, id):\n",
    "    try:\n",
    "        return session.execute(\"DELETE FROM {} WHERE id={}\".format(table_name, id))\n",
    "    except Exception as e:\n",
    "        return f\"DELETE fails with: {str(e)}\"\n",
    "\n",
    "delete_records_by_id('student_depression_new', '12888')"
   ]
  }
 ],
 "metadata": {
  "kernelspec": {
   "display_name": "Python 3",
   "language": "python",
   "name": "python3"
  },
  "language_info": {
   "codemirror_mode": {
    "name": "ipython",
    "version": 3
   },
   "file_extension": ".py",
   "mimetype": "text/x-python",
   "name": "python",
   "nbconvert_exporter": "python",
   "pygments_lexer": "ipython3",
   "version": "3.10.13"
  }
 },
 "nbformat": 4,
 "nbformat_minor": 2
}
