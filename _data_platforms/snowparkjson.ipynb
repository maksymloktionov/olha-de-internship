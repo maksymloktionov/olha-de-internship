{
 "cells": [
  {
   "cell_type": "code",
   "execution_count": null,
   "metadata": {},
   "outputs": [],
   "source": [
    "%pip install snowflake-connector-python\n",
    "%pip install snowflake-snowpark-python"
   ]
  },
  {
   "cell_type": "code",
   "execution_count": null,
   "metadata": {},
   "outputs": [],
   "source": [
    "import os\n",
    "from dotenv import load_dotenv\n",
    "from snowflake.snowpark import Session\n",
    "import snowflake.snowpark.functions as f\n",
    "from snowflake.snowpark.window import Window\n",
    "from datetime import date\n",
    "from snowflake.snowpark.types import ArrayType, VariantType "
   ]
  },
  {
   "cell_type": "code",
   "execution_count": null,
   "metadata": {},
   "outputs": [],
   "source": [
    "load_dotenv()"
   ]
  },
  {
   "cell_type": "code",
   "execution_count": null,
   "metadata": {},
   "outputs": [],
   "source": [
    "def snowpark_session_create():\n",
    "    connection_params = {\n",
    "        \"account\": os.getenv(\"SNOWFLAKE_ACCOUNT\"),\n",
    "        \"user\": os.getenv(\"SNOWFLAKE_USER\"),\n",
    "        \"password\": os.getenv(\"SNOWFLAKE_PASSWORD\"),\n",
    "        \"role\": os.getenv(\"SNOWFLAKE_ROLE\"),\n",
    "        \"warehouse\": os.getenv(\"SNOWFLAKE_WAREHOUSE\"),\n",
    "        \"database\": os.getenv(\"SNOWFLAKE_DATABASE\"),\n",
    "        \"schema\": os.getenv(\"SNOWFLAKE_SCHEMA\")\n",
    "    }\n",
    "\n",
    "\n",
    "    session = Session.builder.configs(connection_params).create()\n",
    "    return session"
   ]
  },
  {
   "cell_type": "code",
   "execution_count": null,
   "metadata": {},
   "outputs": [],
   "source": [
    "demo_session = snowpark_session_create()"
   ]
  },
  {
   "cell_type": "code",
   "execution_count": null,
   "metadata": {},
   "outputs": [],
   "source": [
    "df = demo_session.sql(\"SELECT * FROM DEMO.RAW.RAW_CREDIT_SALES \")\n",
    "df.show()"
   ]
  },
  {
   "cell_type": "code",
   "execution_count": null,
   "metadata": {},
   "outputs": [],
   "source": [
    "demo_session.use_database(\"demo\")\n",
    "demo_session.use_schema(\"raw\")\n",
    "demo_session.table(\"raw_credit_sales\")\n",
    "demo_session.table(\"raw_credit_sales_items\")"
   ]
  },
  {
   "cell_type": "code",
   "execution_count": null,
   "metadata": {},
   "outputs": [],
   "source": [
    "sales_items = demo_session.table(\"raw_credit_sales_items\")\n",
    "sales_items.show()"
   ]
  },
  {
   "cell_type": "markdown",
   "metadata": {},
   "source": [
    "transform data into structured format"
   ]
  },
  {
   "cell_type": "code",
   "execution_count": null,
   "metadata": {},
   "outputs": [],
   "source": [
    "#lit funct creates a column\n",
    "sales_items_strcd = (\n",
    "    sales_items.join_table_function(\"flatten\",f.col(\"data\"))\n",
    "    .withColumn(\"credit_card_number\",f.json_extract_path_text(\"value\",f.lit(\"creditCardNumber\")) )\n",
    "    .withColumn(\"date_time\",f.json_extract_path_text(\"value\",f.lit(\"dateTime\")))\n",
    "    .withColumn(\"id\",f.json_extract_path_text(\"value\",f.lit(\"id\")))\n",
    "    .withColumn(\"items\",f.json_extract_path_text(\"value\",f.lit(\"items\")))\n",
    "    .select(\"ingestion_id\",\"ingested_at\",\"credit_card_number\",\"date_time\",\"id\",\"items\")\n",
    ")\n",
    "\n",
    "sales_items_strcd.show()"
   ]
  },
  {
   "cell_type": "markdown",
   "metadata": {},
   "source": [
    "creating a stage for udf"
   ]
  },
  {
   "cell_type": "code",
   "execution_count": null,
   "metadata": {},
   "outputs": [],
   "source": [
    "demo_session.sql(\"create or replace stage demo_stage\").collect()"
   ]
  },
  {
   "cell_type": "code",
   "execution_count": null,
   "metadata": {},
   "outputs": [],
   "source": [
    "demo_session.file.put(\"udf.py\",\"@demo_stage\",auto_compress=False)"
   ]
  },
  {
   "cell_type": "code",
   "execution_count": null,
   "metadata": {},
   "outputs": [],
   "source": [
    "#we need to register the udf from the srage\n",
    "sort_items = demo_session.udf.register_from_file(\n",
    "    file_path=\"@demo_stage/udf.py\",\n",
    "    func_name=\"sortitems\",\n",
    "    return_type=ArrayType(),\n",
    "    input_types=[VariantType()],\n",
    "    name=\"sort_items\",\n",
    "    replace=True,\n",
    "    stage_location=\"@demo_stage\",\n",
    "    is_permanent=True\n",
    ")"
   ]
  },
  {
   "cell_type": "code",
   "execution_count": null,
   "metadata": {},
   "outputs": [],
   "source": [
    "sales_items_strcd_wudf = ( \n",
    "    sales_items.join_table_function(\"flatten\",f.col(\"data\"))\n",
    "    .withColumn(\"credit_card_number\",f.json_extract_path_text(\"value\",f.lit(\"creditCardNumber\")) )\n",
    "    .withColumn(\"date_time\",f.json_extract_path_text(\"value\",f.lit(\"dateTime\")))\n",
    "    .withColumn(\"id\",f.json_extract_path_text(\"value\",f.lit(\"id\")))\n",
    "    .withColumn(\"items\",sort_items(f.parse_json(f.json_extract_path_text(\"value\",f.lit(\"items\")))))\n",
    "    .select(\"ingestion_id\",\"ingested_at\",\"credit_card_number\",\"date_time\",\"id\",\"items\"))"
   ]
  },
  {
   "cell_type": "code",
   "execution_count": null,
   "metadata": {},
   "outputs": [],
   "source": [
    "sales_items_strcd_wudf.show()"
   ]
  },
  {
   "cell_type": "markdown",
   "metadata": {},
   "source": [
    "we can save this table now :)"
   ]
  },
  {
   "cell_type": "code",
   "execution_count": null,
   "metadata": {},
   "outputs": [],
   "source": [
    "sales_items_strcd_wudf.write.mode(\"overwrite\").save_as_table(\"sales_items\")"
   ]
  }
 ],
 "metadata": {
  "language_info": {
   "name": "python"
  }
 },
 "nbformat": 4,
 "nbformat_minor": 2
}
