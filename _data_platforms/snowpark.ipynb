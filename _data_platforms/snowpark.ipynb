{
 "cells": [
  {
   "cell_type": "code",
   "execution_count": null,
   "metadata": {},
   "outputs": [],
   "source": [
    "%pip install snowflake-connector-python\n",
    "%pip install snowflake-snowpark-python\n",
    "%pip install python-dotenv"
   ]
  },
  {
   "cell_type": "code",
   "execution_count": null,
   "metadata": {},
   "outputs": [],
   "source": [
    "import os\n",
    "from dotenv import load_dotenv\n",
    "from snowflake.snowpark import Session\n",
    "import snowflake.snowpark.functions as f\n",
    "from snowflake.snowpark.window import Window\n",
    "from datetime import date\n",
    "from snowflake.snowpark.types import ArrayType, VariantType "
   ]
  },
  {
   "cell_type": "code",
   "execution_count": null,
   "metadata": {},
   "outputs": [],
   "source": [
    "load_dotenv()"
   ]
  },
  {
   "cell_type": "markdown",
   "metadata": {},
   "source": [
    "### creating snowpark session"
   ]
  },
  {
   "cell_type": "code",
   "execution_count": null,
   "metadata": {},
   "outputs": [],
   "source": [
    "\n",
    "def snowpark_session_create():\n",
    "    connection_params = {\n",
    "        \"account\": os.getenv(\"SNOWFLAKE_ACCOUNT\"),\n",
    "        \"user\": os.getenv(\"SNOWFLAKE_USER\"),\n",
    "        \"password\": os.getenv(\"SNOWFLAKE_PASSWORD\"),\n",
    "        \"role\": os.getenv(\"SNOWFLAKE_ROLE\"),\n",
    "        \"warehouse\": os.getenv(\"SNOWFLAKE_WAREHOUSE\"),\n",
    "        \"database\": os.getenv(\"SNOWFLAKE_DATABASE\"),\n",
    "        \"schema\": os.getenv(\"SNOWFLAKE_SCHEMA\")\n",
    "    }\n",
    "\n",
    "\n",
    "    session = Session.builder.configs(connection_params).create()\n",
    "    return session"
   ]
  },
  {
   "cell_type": "code",
   "execution_count": null,
   "metadata": {},
   "outputs": [],
   "source": [
    "demo_session = snowpark_session_create()"
   ]
  },
  {
   "cell_type": "code",
   "execution_count": null,
   "metadata": {},
   "outputs": [],
   "source": [
    "df = demo_session.sql(\"SELECT * FROM DEMO.RAW.STG_CITIES LIMIT \")\n",
    "df.show()\n"
   ]
  },
  {
   "cell_type": "code",
   "execution_count": null,
   "metadata": {},
   "outputs": [],
   "source": [
    "for row in df.collect():\n",
    "    print(row)"
   ]
  },
  {
   "cell_type": "markdown",
   "metadata": {},
   "source": [
    "### point session to the snowflake demo db,schema,table\n"
   ]
  },
  {
   "cell_type": "code",
   "execution_count": null,
   "metadata": {},
   "outputs": [],
   "source": [
    "demo_session.use_database(\"demo\")\n",
    "demo_session.use_schema(\"raw\")\n",
    "demo_session.table(\"stg_cities\")"
   ]
  },
  {
   "cell_type": "code",
   "execution_count": null,
   "metadata": {},
   "outputs": [],
   "source": [
    "df = df.withColumn(\"DATE\", f.to_date(f.col(\"DATE\")))"
   ]
  },
  {
   "cell_type": "code",
   "execution_count": null,
   "metadata": {},
   "outputs": [],
   "source": [
    "print(df.count())\n",
    "df.show()\n"
   ]
  },
  {
   "cell_type": "code",
   "execution_count": null,
   "metadata": {},
   "outputs": [],
   "source": [
    "df = (\n",
    "    df.select(\n",
    "        \"CITY\",\n",
    "        \"DATE\",\n",
    "        f.col(\"TAVG\").alias(\"TEMP_AVG\"),\n",
    "        f.col(\"TMAX\").alias(\"TEMP_MAX\"),\n",
    "        f.col(\"TMIN\").alias(\"TEMP_MIN\"),\n",
    "        f.col(\"PRCP\").alias(\"TOTAL_PRECIPITATION\"),\n",
    "        f.col(\"WSPD\").alias(\"AVG_WIND_SPEED\"),\n",
    "        f.col(\"WPGT\").alias(\"WIND_PEAK_GUST\"),\n",
    "        f.col(\"PRES\").alias(\"SEA_LEVEL_AIR_PRESSURE\")\n",
    "    )\n",
    "    .filter(f.col(\"DATE\").between(date(2020, 6, 1), date(2020, 8, 31)))\n",
    "    .sort(f.col(\"DATE\").asc())\n",
    ")\n",
    "\n",
    "\n"
   ]
  },
  {
   "cell_type": "code",
   "execution_count": null,
   "metadata": {},
   "outputs": [],
   "source": [
    "df.show(100)"
   ]
  },
  {
   "cell_type": "code",
   "execution_count": null,
   "metadata": {},
   "outputs": [],
   "source": [
    "df = df.na.fill({\"TOTAL_PRECIPITATION\": 0, \"AVG_WIND_SPEED\": 0, \"WIND_PEAK_GUST\": 0, \"SEA_LEVEL_AIR_PRESSURE\": 0})\n",
    "df.show(100)\n"
   ]
  },
  {
   "cell_type": "code",
   "execution_count": null,
   "metadata": {},
   "outputs": [],
   "source": [
    "df.show(100)"
   ]
  },
  {
   "cell_type": "code",
   "execution_count": null,
   "metadata": {},
   "outputs": [],
   "source": [
    "df_count2020 = df.withColumn(\"MONTH\", f.monthname(f.col(\"DATE\")))\\\n",
    "    .withColumn(\"YEAR\",f.year(f.col(\"DATE\"))) \\\n",
    "    .group_by(\"CITY\", \"MONTH\",\"YEAR\") \\\n",
    "    .agg(f.avg(\"TEMP_AVG\").alias(\"MONTHLY_AVG_TEMP\"),\n",
    "        f.max(\"TEMP_MAX\").alias(\"WARMEST_SUMMER_MONTH\"),\n",
    "        f.min(\"TEMP_MIN\").alias(\"COLDEST_SUMMER_MONTH\"))\\\n",
    "    .sort(f.col(\"CITY\"),f.col(\"MONTH\").desc())"
   ]
  },
  {
   "cell_type": "code",
   "execution_count": null,
   "metadata": {},
   "outputs": [],
   "source": [
    "df2 = demo_session.table(\"stg_cities\")\n",
    "df2 = (\n",
    "    df2.select(\n",
    "        \"CITY\",\n",
    "        \"DATE\",\n",
    "        f.col(\"TAVG\").alias(\"TEMP_AVG\"),\n",
    "        f.col(\"TMAX\").alias(\"TEMP_MAX\"),\n",
    "        f.col(\"TMIN\").alias(\"TEMP_MIN\"),\n",
    "        f.col(\"PRCP\").alias(\"TOTAL_PRECIPITATION\"),\n",
    "        f.col(\"WSPD\").alias(\"AVG_WIND_SPEED\"),\n",
    "        f.col(\"WPGT\").alias(\"WIND_PEAK_GUST\"),\n",
    "        f.col(\"PRES\").alias(\"SEA_LEVEL_AIR_PRESSURE\")\n",
    "    )\n",
    "    .filter(f.col(\"DATE\").between(date(2023, 6, 1), date(2023, 8, 31)))\n",
    "    .sort(f.col(\"DATE\").asc())\n",
    ")\n",
    "df = df.na.fill({\"TOTAL_PRECIPITATION\": 0, \"AVG_WIND_SPEED\": 0, \"WIND_PEAK_GUST\": 0, \"SEA_LEVEL_AIR_PRESSURE\": 0})\n",
    "df.show(100)"
   ]
  },
  {
   "cell_type": "code",
   "execution_count": null,
   "metadata": {},
   "outputs": [],
   "source": [
    "df_count2023 = df2.withColumn(\"MONTH\", f.monthname(f.col(\"DATE\")))\\\n",
    "    .withColumn(\"YEAR\",f.year(f.col(\"DATE\"))) \\\n",
    "    .group_by(\"CITY\", \"MONTH\",\"YEAR\") \\\n",
    "    .agg(f.avg(\"TEMP_AVG\").alias(\"MONTHLY_AVG_TEMP\"),\n",
    "         f.max(\"TEMP_MAX\").alias(\"WARMEST_SUMMER_MONTH\"),\n",
    "         f.min(\"TEMP_MIN\").alias(\"COLDEST_SUMMER_MONTH\"))\\\n",
    "    .sort(f.col(\"CITY\"),f.col(\"MONTH\").desc())     "
   ]
  },
  {
   "cell_type": "code",
   "execution_count": null,
   "metadata": {},
   "outputs": [],
   "source": [
    "df_count2023.show(100)"
   ]
  },
  {
   "cell_type": "markdown",
   "metadata": {},
   "source": [
    "### join tables for comparison"
   ]
  },
  {
   "cell_type": "code",
   "execution_count": null,
   "metadata": {},
   "outputs": [],
   "source": [
    "joined_df = df_count2020.join(\n",
    "    df_count2023, \n",
    "    (df_count2020.CITY == df_count2023.CITY) & \n",
    "    (df_count2020.MONTH == df_count2023.MONTH) \n",
    ").select(\n",
    "    df_count2020.CITY.alias(\"CITY_2020\"),\n",
    "    df_count2020.MONTH.alias(\"MONTH_2020\"),\n",
    "    df_count2020.WARMEST_SUMMER_MONTH.alias(\"WARMEST_SUMMER_MONTH_2020\"),\n",
    "    df_count2023.CITY.alias(\"CITY_2023\"),\n",
    "    df_count2023.MONTH.alias(\"MONTH_2023\"),\n",
    "    df_count2023.WARMEST_SUMMER_MONTH.alias(\"WARMEST_SUMMER_MONTH_2023\")\n",
    ").sort(f.col(\"CITY_2020\"),f.col(\"MONTH_2020\").desc())"
   ]
  },
  {
   "cell_type": "code",
   "execution_count": null,
   "metadata": {},
   "outputs": [],
   "source": [
    "joined_df.show(100)"
   ]
  },
  {
   "cell_type": "code",
   "execution_count": null,
   "metadata": {},
   "outputs": [],
   "source": [
    "df_count2020 = df.withColumn(\"SUMMER_MAX_TEMP\",f.col(\"TEMP_MAX\")) \\\n",
    "    .group_by(\"CITY\") \\\n",
    "    .agg(f.max(\"TEMP_MAX\").alias(\"HIGHEST_SUMMER_TEMP_2020\"))\\\n",
    "    .sort(f.col(\"CITY\"))"
   ]
  },
  {
   "cell_type": "code",
   "execution_count": null,
   "metadata": {},
   "outputs": [],
   "source": [
    "df_count2020.show(100)"
   ]
  },
  {
   "cell_type": "code",
   "execution_count": null,
   "metadata": {},
   "outputs": [],
   "source": [
    "df_count2023 = df2.withColumn(\"SUMMER_MAX_TEMP\",f.col(\"TEMP_MAX\")) \\\n",
    "    .group_by(\"CITY\") \\\n",
    "    .agg(f.max(\"TEMP_MAX\").alias(\"HIGHEST_SUMMER_TEMP_2023\"))\\\n",
    "    .sort(f.col(\"CITY\"))"
   ]
  },
  {
   "cell_type": "code",
   "execution_count": null,
   "metadata": {},
   "outputs": [],
   "source": [
    "df_count2023.show()"
   ]
  },
  {
   "cell_type": "code",
   "execution_count": null,
   "metadata": {},
   "outputs": [],
   "source": [
    "join_highest_summer = df_count2020.join(\n",
    "    df_count2023, \n",
    "    (df_count2020.CITY == df_count2023.CITY) \n",
    ").select(\n",
    "    df_count2020.CITY.alias(\"CITY_2020\"),\n",
    "    df_count2020.HIGHEST_SUMMER_TEMP_2020.alias(\"HIGHEST_SUMMER_TEMP_2020\"),\n",
    "    df_count2023.CITY.alias(\"CITY_2023\"),\n",
    "    df_count2023.HIGHEST_SUMMER_TEMP_2023.alias(\"HIGHEST_SUMMER_TEMP_2023\")\n",
    ").sort(f.col(\"CITY_2020\"))"
   ]
  },
  {
   "cell_type": "code",
   "execution_count": null,
   "metadata": {},
   "outputs": [],
   "source": [
    "join_highest_summer.show(100)"
   ]
  },
  {
   "cell_type": "markdown",
   "metadata": {},
   "source": [
    "functions"
   ]
  },
  {
   "cell_type": "code",
   "execution_count": null,
   "metadata": {},
   "outputs": [],
   "source": [
    "# a column that puts two totals into an array\n",
    "#lefr a comment\n",
    "join_highest_summer = join_highest_summer.withColumn(\n",
    "    \"2020vs2023_highest_summer_temp\",\n",
    "    f.array_construct(\n",
    "        f.col(\"HIGHEST_SUMMER_TEMP_2020\").cast(\"int\"),\n",
    "        f.col(\"HIGHEST_SUMMER_TEMP_2023\").cast(\"int\")\n",
    "    )\n",
    ").withColumn(\n",
    "    \"COMMENT\",\n",
    "    f.concat(f.lit(\"Code was created by \"), f.current_user())\n",
    ")"
   ]
  },
  {
   "cell_type": "code",
   "execution_count": null,
   "metadata": {},
   "outputs": [],
   "source": [
    "join_highest_summer.show()"
   ]
  },
  {
   "cell_type": "code",
   "execution_count": null,
   "metadata": {},
   "outputs": [],
   "source": [
    "join_highest_summer.drop(f.col(\"HIGHEST_SUMMER_TEMP_2020\"),f.col(\"HIGHEST_SUMMER_TEMP_2023\")).show()\n"
   ]
  },
  {
   "cell_type": "markdown",
   "metadata": {},
   "source": [
    "close the session"
   ]
  },
  {
   "cell_type": "code",
   "execution_count": null,
   "metadata": {},
   "outputs": [],
   "source": [
    "demo_session.close()"
   ]
  }
 ],
 "metadata": {
  "kernelspec": {
   "display_name": "Python 3",
   "language": "python",
   "name": "python3"
  },
  "language_info": {
   "codemirror_mode": {
    "name": "ipython",
    "version": 3
   },
   "file_extension": ".py",
   "mimetype": "text/x-python",
   "name": "python",
   "nbconvert_exporter": "python",
   "pygments_lexer": "ipython3",
   "version": "3.10.13"
  }
 },
 "nbformat": 4,
 "nbformat_minor": 2
}
