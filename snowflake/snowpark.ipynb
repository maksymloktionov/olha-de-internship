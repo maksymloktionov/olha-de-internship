{
 "cells": [
  {
   "cell_type": "code",
   "execution_count": 66,
   "metadata": {},
   "outputs": [
    {
     "name": "stdout",
     "output_type": "stream",
     "text": [
      "Defaulting to user installation because normal site-packages is not writeable\n",
      "Requirement already satisfied: snowflake-connector-python in /home/olha/.local/lib/python3.10/site-packages (3.12.3)\n",
      "Requirement already satisfied: asn1crypto<2.0.0,>0.24.0 in /home/olha/.local/lib/python3.10/site-packages (from snowflake-connector-python) (1.5.1)\n",
      "Requirement already satisfied: cffi<2.0.0,>=1.9 in /usr/local/lib/python3.10/site-packages (from snowflake-connector-python) (1.17.1)\n",
      "Requirement already satisfied: cryptography>=3.1.0 in /home/olha/.local/lib/python3.10/site-packages (from snowflake-connector-python) (43.0.3)\n",
      "Requirement already satisfied: pyOpenSSL<25.0.0,>=16.2.0 in /home/olha/.local/lib/python3.10/site-packages (from snowflake-connector-python) (24.2.1)\n",
      "Requirement already satisfied: pyjwt<3.0.0 in /home/olha/.local/lib/python3.10/site-packages (from snowflake-connector-python) (2.10.0)\n",
      "Requirement already satisfied: pytz in /home/olha/.local/lib/python3.10/site-packages (from snowflake-connector-python) (2024.2)\n",
      "Requirement already satisfied: requests<3.0.0 in /usr/local/lib/python3.10/site-packages (from snowflake-connector-python) (2.32.3)\n",
      "Requirement already satisfied: packaging in /usr/local/lib/python3.10/site-packages (from snowflake-connector-python) (24.2)\n",
      "Requirement already satisfied: charset-normalizer<4,>=2 in /usr/local/lib/python3.10/site-packages (from snowflake-connector-python) (3.4.0)\n",
      "Requirement already satisfied: idna<4,>=2.5 in /usr/local/lib/python3.10/site-packages (from snowflake-connector-python) (3.10)\n",
      "Requirement already satisfied: certifi>=2017.4.17 in /usr/local/lib/python3.10/site-packages (from snowflake-connector-python) (2024.8.30)\n",
      "Requirement already satisfied: typing-extensions<5,>=4.3 in /home/olha/.local/lib/python3.10/site-packages (from snowflake-connector-python) (4.12.2)\n",
      "Requirement already satisfied: filelock<4,>=3.5 in /home/olha/.local/lib/python3.10/site-packages (from snowflake-connector-python) (3.16.1)\n",
      "Requirement already satisfied: sortedcontainers>=2.4.0 in /home/olha/.local/lib/python3.10/site-packages (from snowflake-connector-python) (2.4.0)\n",
      "Requirement already satisfied: platformdirs<5.0.0,>=2.6.0 in /usr/local/lib/python3.10/site-packages (from snowflake-connector-python) (4.3.6)\n",
      "Requirement already satisfied: tomlkit in /home/olha/.local/lib/python3.10/site-packages (from snowflake-connector-python) (0.13.2)\n",
      "Requirement already satisfied: pycparser in /usr/local/lib/python3.10/site-packages (from cffi<2.0.0,>=1.9->snowflake-connector-python) (2.22)\n",
      "Requirement already satisfied: urllib3<3,>=1.21.1 in /usr/local/lib/python3.10/site-packages (from requests<3.0.0->snowflake-connector-python) (2.2.3)\n",
      "Note: you may need to restart the kernel to use updated packages.\n",
      "Defaulting to user installation because normal site-packages is not writeable\n",
      "Requirement already satisfied: snowflake-snowpark-python in /home/olha/.local/lib/python3.10/site-packages (1.25.0)\n",
      "Requirement already satisfied: setuptools>=40.6.0 in /usr/local/lib/python3.10/site-packages (from snowflake-snowpark-python) (65.5.0)\n",
      "Requirement already satisfied: wheel in /home/olha/.local/lib/python3.10/site-packages (from snowflake-snowpark-python) (0.45.0)\n",
      "Requirement already satisfied: snowflake-connector-python<4.0.0,>=3.12.0 in /home/olha/.local/lib/python3.10/site-packages (from snowflake-snowpark-python) (3.12.3)\n",
      "Requirement already satisfied: typing-extensions<5.0.0,>=4.1.0 in /home/olha/.local/lib/python3.10/site-packages (from snowflake-snowpark-python) (4.12.2)\n",
      "Requirement already satisfied: pyyaml in /usr/local/lib/python3.10/site-packages (from snowflake-snowpark-python) (6.0.2)\n",
      "Requirement already satisfied: protobuf<6,>=3.20 in /home/olha/.local/lib/python3.10/site-packages (from snowflake-snowpark-python) (5.28.3)\n",
      "Requirement already satisfied: tzlocal in /home/olha/.local/lib/python3.10/site-packages (from snowflake-snowpark-python) (5.2)\n",
      "Requirement already satisfied: cloudpickle!=2.1.0,!=2.2.0,<=2.2.1,>=1.6.0 in /home/olha/.local/lib/python3.10/site-packages (from snowflake-snowpark-python) (2.2.1)\n",
      "Requirement already satisfied: asn1crypto<2.0.0,>0.24.0 in /home/olha/.local/lib/python3.10/site-packages (from snowflake-connector-python<4.0.0,>=3.12.0->snowflake-snowpark-python) (1.5.1)\n",
      "Requirement already satisfied: cffi<2.0.0,>=1.9 in /usr/local/lib/python3.10/site-packages (from snowflake-connector-python<4.0.0,>=3.12.0->snowflake-snowpark-python) (1.17.1)\n",
      "Requirement already satisfied: cryptography>=3.1.0 in /home/olha/.local/lib/python3.10/site-packages (from snowflake-connector-python<4.0.0,>=3.12.0->snowflake-snowpark-python) (43.0.3)\n",
      "Requirement already satisfied: pyOpenSSL<25.0.0,>=16.2.0 in /home/olha/.local/lib/python3.10/site-packages (from snowflake-connector-python<4.0.0,>=3.12.0->snowflake-snowpark-python) (24.2.1)\n",
      "Requirement already satisfied: pyjwt<3.0.0 in /home/olha/.local/lib/python3.10/site-packages (from snowflake-connector-python<4.0.0,>=3.12.0->snowflake-snowpark-python) (2.10.0)\n",
      "Requirement already satisfied: pytz in /home/olha/.local/lib/python3.10/site-packages (from snowflake-connector-python<4.0.0,>=3.12.0->snowflake-snowpark-python) (2024.2)\n",
      "Requirement already satisfied: requests<3.0.0 in /usr/local/lib/python3.10/site-packages (from snowflake-connector-python<4.0.0,>=3.12.0->snowflake-snowpark-python) (2.32.3)\n",
      "Requirement already satisfied: packaging in /usr/local/lib/python3.10/site-packages (from snowflake-connector-python<4.0.0,>=3.12.0->snowflake-snowpark-python) (24.2)\n",
      "Requirement already satisfied: charset-normalizer<4,>=2 in /usr/local/lib/python3.10/site-packages (from snowflake-connector-python<4.0.0,>=3.12.0->snowflake-snowpark-python) (3.4.0)\n",
      "Requirement already satisfied: idna<4,>=2.5 in /usr/local/lib/python3.10/site-packages (from snowflake-connector-python<4.0.0,>=3.12.0->snowflake-snowpark-python) (3.10)\n",
      "Requirement already satisfied: certifi>=2017.4.17 in /usr/local/lib/python3.10/site-packages (from snowflake-connector-python<4.0.0,>=3.12.0->snowflake-snowpark-python) (2024.8.30)\n",
      "Requirement already satisfied: filelock<4,>=3.5 in /home/olha/.local/lib/python3.10/site-packages (from snowflake-connector-python<4.0.0,>=3.12.0->snowflake-snowpark-python) (3.16.1)\n",
      "Requirement already satisfied: sortedcontainers>=2.4.0 in /home/olha/.local/lib/python3.10/site-packages (from snowflake-connector-python<4.0.0,>=3.12.0->snowflake-snowpark-python) (2.4.0)\n",
      "Requirement already satisfied: platformdirs<5.0.0,>=2.6.0 in /usr/local/lib/python3.10/site-packages (from snowflake-connector-python<4.0.0,>=3.12.0->snowflake-snowpark-python) (4.3.6)\n",
      "Requirement already satisfied: tomlkit in /home/olha/.local/lib/python3.10/site-packages (from snowflake-connector-python<4.0.0,>=3.12.0->snowflake-snowpark-python) (0.13.2)\n",
      "Requirement already satisfied: pycparser in /usr/local/lib/python3.10/site-packages (from cffi<2.0.0,>=1.9->snowflake-connector-python<4.0.0,>=3.12.0->snowflake-snowpark-python) (2.22)\n",
      "Requirement already satisfied: urllib3<3,>=1.21.1 in /usr/local/lib/python3.10/site-packages (from requests<3.0.0->snowflake-connector-python<4.0.0,>=3.12.0->snowflake-snowpark-python) (2.2.3)\n",
      "Note: you may need to restart the kernel to use updated packages.\n"
     ]
    }
   ],
   "source": [
    "\n",
    "%pip install snowflake-connector-python\n",
    "%pip install snowflake-snowpark-python"
   ]
  },
  {
   "cell_type": "code",
   "execution_count": 68,
   "metadata": {},
   "outputs": [],
   "source": [
    "\n",
    "import os\n",
    "import configparser\n",
    "from snowflake.snowpark import Session\n",
    "import snowflake.snowpark.functions as f\n",
    "from snowflake.snowpark.window import Window\n",
    "from datetime import date\n"
   ]
  },
  {
   "cell_type": "code",
   "execution_count": 67,
   "metadata": {},
   "outputs": [
    {
     "data": {
      "text/plain": [
       "['config.ini']"
      ]
     },
     "execution_count": 67,
     "metadata": {},
     "output_type": "execute_result"
    }
   ],
   "source": [
    "config = configparser.ConfigParser()\n",
    "config.read('config.ini')\n"
   ]
  },
  {
   "cell_type": "markdown",
   "metadata": {},
   "source": [
    "### creating snowpark session"
   ]
  },
  {
   "cell_type": "code",
   "execution_count": 69,
   "metadata": {},
   "outputs": [],
   "source": [
    "\n",
    "def snowpark_session_create():\n",
    "    connection_params = {\n",
    "        \"account\": config.get(\"snowflake\", \"account\"),\n",
    "        \"user\": config.get(\"snowflake\", \"user\"),\n",
    "        \"password\": config.get(\"snowflake\", \"password\"),\n",
    "        \"role\": config.get(\"snowflake\", \"role\"),\n",
    "        \"warehouse\": config.get(\"snowflake\", \"warehouse\"),\n",
    "        \"database\": config.get(\"snowflake\", \"database\"),\n",
    "        \"schema\": config.get(\"snowflake\", \"schema\")\n",
    "    }\n",
    "\n",
    "    session = Session.builder.configs(connection_params).create()\n",
    "    return session\n"
   ]
  },
  {
   "cell_type": "code",
   "execution_count": 70,
   "metadata": {},
   "outputs": [],
   "source": [
    "demo_session = snowpark_session_create()"
   ]
  },
  {
   "cell_type": "code",
   "execution_count": 71,
   "metadata": {},
   "outputs": [
    {
     "name": "stdout",
     "output_type": "stream",
     "text": [
      "-----------------------------------------------------------------------------------------------------------------------------\n",
      "|\"CITY_ID\"  |\"CITY\"  |\"DATE\"      |\"TAVG\"  |\"TMIN\"  |\"TMAX\"  |\"PRCP\"  |\"SNOW\"  |\"WDIR\"  |\"WSPD\"  |\"WPGT\"  |\"PRES\"  |\"TSUN\"  |\n",
      "-----------------------------------------------------------------------------------------------------------------------------\n",
      "|1          |Kyiv    |2022-08-29  |25.3    |16.6    |31.5    |0.0     |NULL    |278.0   |6.8     |27.8    |1012.5  |NULL    |\n",
      "|1          |Kyiv    |2022-09-09  |13.1    |6.8     |18.3    |0.3     |NULL    |82.0    |7.0     |24.1    |1022.4  |NULL    |\n",
      "|1          |Kyiv    |2022-09-08  |14.9    |9.2     |20.5    |0.0     |NULL    |15.0    |4.7     |22.2    |1019.4  |NULL    |\n",
      "|1          |Kyiv    |2022-09-07  |12.4    |6.7     |19.0    |0.0     |NULL    |281.0   |4.4     |22.2    |1022.3  |NULL    |\n",
      "|1          |Kyiv    |2022-09-06  |10.9    |6.8     |14.6    |0.0     |NULL    |344.0   |5.7     |25.9    |1024.7  |NULL    |\n",
      "|1          |Kyiv    |2022-09-05  |13.9    |12.6    |18.4    |0.7     |NULL    |343.0   |5.8     |25.9    |1024.2  |NULL    |\n",
      "|1          |Kyiv    |2022-09-04  |14.4    |9.6     |20.0    |0.0     |NULL    |15.0    |4.7     |24.1    |1023.6  |NULL    |\n",
      "|1          |Kyiv    |2022-09-03  |14.7    |11.7    |18.7    |0.0     |NULL    |63.0    |3.2     |16.7    |1022.9  |NULL    |\n",
      "|1          |Kyiv    |2022-09-02  |14.9    |9.1     |20.4    |0.0     |NULL    |5.0     |4.5     |22.2    |1021.3  |NULL    |\n",
      "|1          |Kyiv    |2022-09-01  |17.3    |12.3    |21.1    |0.0     |NULL    |348.0   |6.0     |25.9    |1016.5  |NULL    |\n",
      "-----------------------------------------------------------------------------------------------------------------------------\n",
      "\n"
     ]
    }
   ],
   "source": [
    "df = demo_session.sql(\"SELECT * FROM DEMO.RAW.STG_CITIES LIMIT \")\n",
    "df.show()\n"
   ]
  },
  {
   "cell_type": "code",
   "execution_count": null,
   "metadata": {},
   "outputs": [],
   "source": [
    "for row in df.collect():\n",
    "    print(row)"
   ]
  },
  {
   "cell_type": "markdown",
   "metadata": {},
   "source": [
    "### point session to the snowflake demo db,schema,table\n"
   ]
  },
  {
   "cell_type": "code",
   "execution_count": 72,
   "metadata": {},
   "outputs": [
    {
     "data": {
      "text/plain": [
       "<snowflake.snowpark.table.Table at 0x7b2b7453c8e0>"
      ]
     },
     "execution_count": 72,
     "metadata": {},
     "output_type": "execute_result"
    }
   ],
   "source": [
    "demo_session.use_database(\"demo\")\n",
    "demo_session.use_schema(\"raw\")\n",
    "demo_session.table(\"stg_cities\")"
   ]
  },
  {
   "cell_type": "code",
   "execution_count": 73,
   "metadata": {},
   "outputs": [],
   "source": [
    "df = df.withColumn(\"DATE\", f.to_date(f.col(\"DATE\")))"
   ]
  },
  {
   "cell_type": "code",
   "execution_count": null,
   "metadata": {},
   "outputs": [],
   "source": [
    "print(df.count())\n",
    "df.show()\n"
   ]
  },
  {
   "cell_type": "code",
   "execution_count": 74,
   "metadata": {},
   "outputs": [],
   "source": [
    "df = (\n",
    "    df.select(\n",
    "        \"CITY\",\n",
    "        \"DATE\",\n",
    "        f.col(\"TAVG\").alias(\"TEMP_AVG\"),\n",
    "        f.col(\"TMAX\").alias(\"TEMP_MAX\"),\n",
    "        f.col(\"TMIN\").alias(\"TEMP_MIN\"),\n",
    "        f.col(\"PRCP\").alias(\"TOTAL_PRECIPITATION\"),\n",
    "        f.col(\"WSPD\").alias(\"AVG_WIND_SPEED\"),\n",
    "        f.col(\"WPGT\").alias(\"WIND_PEAK_GUST\"),\n",
    "        f.col(\"PRES\").alias(\"SEA_LEVEL_AIR_PRESSURE\")\n",
    "    )\n",
    "    .filter(f.col(\"DATE\").between(date(2020, 6, 1), date(2020, 8, 31)))\n",
    "    .sort(f.col(\"DATE\").asc())\n",
    ")\n",
    "\n",
    "\n"
   ]
  },
  {
   "cell_type": "code",
   "execution_count": null,
   "metadata": {},
   "outputs": [],
   "source": [
    "df.show(100)"
   ]
  },
  {
   "cell_type": "code",
   "execution_count": 75,
   "metadata": {},
   "outputs": [
    {
     "name": "stdout",
     "output_type": "stream",
     "text": [
      "-------------------------------------------------------------------------------------------------------------------------------------------------------\n",
      "|\"CITY\"  |\"DATE\"      |\"TEMP_AVG\"  |\"TEMP_MAX\"  |\"TEMP_MIN\"  |\"TOTAL_PRECIPITATION\"  |\"AVG_WIND_SPEED\"  |\"WIND_PEAK_GUST\"  |\"SEA_LEVEL_AIR_PRESSURE\"  |\n",
      "-------------------------------------------------------------------------------------------------------------------------------------------------------\n",
      "|Oslo    |2020-06-01  |19.6        |27.2        |10.3        |0.1                    |9.9               |23.0              |1027.3                    |\n",
      "|Zagreb  |2020-06-01  |18.4        |23.2        |11.8        |0.0                    |8.3               |22.2              |1016.9                    |\n",
      "|Kyiv    |2020-06-01  |11.8        |16.0        |9.0         |0.0                    |16.8              |35.2              |1007.8                    |\n",
      "|Munich  |2020-06-01  |16.1        |22.5        |8.3         |0.0                    |10.4              |34.2              |1019.2                    |\n",
      "|Paris   |2020-06-01  |21.7        |27.7        |14.1        |0.0                    |9.7               |0.0               |1018.0                    |\n",
      "|Zagreb  |2020-06-02  |20.2        |24.7        |12.9        |0.4                    |7.4               |16.7              |1014.2                    |\n",
      "|Kyiv    |2020-06-02  |9.7         |14.0        |5.0         |0.0                    |10.7              |33.3              |1005.5                    |\n",
      "|Oslo    |2020-06-02  |19.2        |26.3        |11.8        |0.2                    |11.8              |27.0              |1016.4                    |\n",
      "|Paris   |2020-06-02  |24.1        |30.4        |16.4        |0.0                    |8.1               |0.0               |1015.7                    |\n",
      "|Munich  |2020-06-02  |17.4        |24.1        |9.3         |0.0                    |7.6               |28.4              |1015.0                    |\n",
      "|Kyiv    |2020-06-03  |11.6        |17.0        |5.5         |0.0                    |9.6               |29.6              |1005.3                    |\n",
      "|Paris   |2020-06-03  |21.2        |28.4        |15.5        |0.0                    |11.1              |0.0               |1005.9                    |\n",
      "|Munich  |2020-06-03  |20.0        |26.2        |12.4        |0.0                    |8.6               |27.0              |1004.6                    |\n",
      "|Zagreb  |2020-06-03  |19.2        |26.5        |12.8        |12.2                   |9.0               |22.2              |1008.1                    |\n",
      "|Oslo    |2020-06-03  |17.5        |23.5        |10.4        |0.8                    |9.2               |31.0              |1007.7                    |\n",
      "|Munich  |2020-06-04  |16.0        |19.4        |12.1        |4.3                    |11.5              |31.0              |997.4                     |\n",
      "|Oslo    |2020-06-04  |15.2        |20.1        |12.1        |0.7                    |12.5              |42.0              |1001.0                    |\n",
      "|Zagreb  |2020-06-04  |19.1        |24.5        |14.0        |4.6                    |14.5              |42.6              |1002.7                    |\n",
      "|Paris   |2020-06-04  |13.8        |23.9        |12.4        |28.7                   |11.8              |0.0               |1001.2                    |\n",
      "|Kyiv    |2020-06-04  |13.8        |20.6        |7.0         |1.0                    |11.2              |31.5              |1004.4                    |\n",
      "|Oslo    |2020-06-05  |12.9        |17.4        |10.2        |9.9                    |15.3              |50.0              |993.5                     |\n",
      "|Zagreb  |2020-06-05  |18.8        |22.1        |14.9        |5.0                    |8.0               |22.2              |1000.0                    |\n",
      "|Paris   |2020-06-05  |13.7        |18.0        |11.4        |3.3                    |14.9              |0.0               |1001.1                    |\n",
      "|Kyiv    |2020-06-05  |17.7        |23.6        |11.0        |1.0                    |9.3               |27.8              |1005.8                    |\n",
      "|Munich  |2020-06-05  |13.7        |16.7        |11.1        |1.3                    |16.9              |57.6              |1000.1                    |\n",
      "|Kyiv    |2020-06-06  |21.1        |27.6        |14.3        |0.0                    |9.6               |25.9              |1009.8                    |\n",
      "|Paris   |2020-06-06  |14.5        |18.7        |11.1        |1.5                    |14.2              |0.0               |1004.0                    |\n",
      "|Oslo    |2020-06-06  |10.7        |12.6        |8.6         |20.5                   |10.1              |30.0              |989.4                     |\n",
      "|Zagreb  |2020-06-06  |20.7        |26.9        |13.4        |0.0                    |5.6               |18.5              |1006.9                    |\n",
      "|Munich  |2020-06-06  |15.9        |20.2        |13.3        |16.2                   |11.9              |45.4              |1004.6                    |\n",
      "|Munich  |2020-06-07  |11.3        |13.6        |8.6         |11.0                   |8.6               |35.6              |1009.5                    |\n",
      "|Kyiv    |2020-06-07  |23.6        |30.0        |16.8        |0.0                    |9.3               |27.8              |1013.2                    |\n",
      "|Paris   |2020-06-07  |14.7        |20.5        |10.0        |0.0                    |8.4               |0.0               |1009.4                    |\n",
      "|Zagreb  |2020-06-07  |22.8        |28.7        |14.8        |5.0                    |10.2              |29.6              |1006.6                    |\n",
      "|Oslo    |2020-06-07  |12.0        |15.4        |9.4         |3.3                    |15.9              |41.0              |998.9                     |\n",
      "|Munich  |2020-06-08  |13.1        |18.3        |9.0         |11.8                   |8.6               |29.2              |1012.6                    |\n",
      "|Paris   |2020-06-08  |14.8        |19.5        |11.7        |0.0                    |12.1              |0.0               |1015.4                    |\n",
      "|Oslo    |2020-06-08  |12.4        |16.3        |10.1        |0.4                    |12.9              |35.0              |1010.8                    |\n",
      "|Zagreb  |2020-06-08  |19.2        |23.2        |14.7        |5.4                    |8.4               |20.4              |1009.8                    |\n",
      "|Kyiv    |2020-06-08  |23.7        |29.8        |15.0        |0.0                    |9.5               |25.9              |1012.4                    |\n",
      "|Kyiv    |2020-06-09  |25.9        |31.0        |19.3        |0.0                    |12.9              |27.8              |1010.7                    |\n",
      "|Paris   |2020-06-09  |14.7        |20.1        |11.6        |0.0                    |13.2              |0.0               |1018.7                    |\n",
      "|Munich  |2020-06-09  |12.6        |15.0        |10.9        |2.1                    |9.7               |25.9              |1012.2                    |\n",
      "|Zagreb  |2020-06-09  |17.3        |19.8        |14.7        |1.5                    |5.4               |18.5              |1011.2                    |\n",
      "|Oslo    |2020-06-09  |15.2        |20.9        |10.5        |0.0                    |7.5               |22.0              |1017.2                    |\n",
      "|Paris   |2020-06-10  |15.4        |20.9        |10.7        |0.0                    |7.2               |0.0               |1016.2                    |\n",
      "|Munich  |2020-06-10  |13.2        |14.8        |11.8        |10.2                   |7.6               |20.9              |1010.6                    |\n",
      "|Zagreb  |2020-06-10  |19.2        |25.3        |13.3        |1.0                    |8.5               |22.2              |1009.4                    |\n",
      "|Kyiv    |2020-06-10  |25.9        |32.1        |19.0        |0.0                    |8.3               |25.9              |1010.6                    |\n",
      "|Oslo    |2020-06-10  |15.6        |22.7        |8.8         |0.9                    |7.2               |29.0              |1020.6                    |\n",
      "|Munich  |2020-06-11  |14.6        |19.9        |11.3        |0.1                    |6.1               |19.4              |1008.4                    |\n",
      "|Paris   |2020-06-11  |17.4        |24.2        |12.4        |0.5                    |8.1               |0.0               |1008.6                    |\n",
      "|Kyiv    |2020-06-11  |27.6        |33.3        |20.4        |0.0                    |13.5              |27.8              |1009.1                    |\n",
      "|Zagreb  |2020-06-11  |21.3        |23.4        |11.8        |0.0                    |7.9               |22.2              |1009.5                    |\n",
      "|Oslo    |2020-06-11  |20.7        |25.5        |14.4        |0.0                    |13.1              |34.0              |1023.2                    |\n",
      "|Oslo    |2020-06-12  |21.7        |26.2        |15.5        |0.0                    |15.9              |41.0              |1022.6                    |\n",
      "|Paris   |2020-06-12  |16.7        |21.5        |13.9        |8.1                    |12.1              |0.0               |1003.4                    |\n",
      "|Kyiv    |2020-06-12  |27.8        |33.0        |21.0        |0.0                    |15.8              |27.8              |1006.0                    |\n",
      "|Munich  |2020-06-12  |19.2        |27.1        |10.0        |0.0                    |11.2              |35.6              |1005.8                    |\n",
      "|Zagreb  |2020-06-12  |23.8        |27.7        |12.1        |0.0                    |9.6               |25.9              |1009.7                    |\n",
      "|Paris   |2020-06-13  |18.6        |24.9        |13.0        |1.3                    |10.4              |0.0               |1009.3                    |\n",
      "|Kyiv    |2020-06-13  |25.3        |31.3        |21.0        |0.0                    |14.3              |29.6              |1005.0                    |\n",
      "|Munich  |2020-06-13  |20.6        |26.7        |13.4        |23.7                   |10.8              |52.9              |1007.6                    |\n",
      "|Oslo    |2020-06-13  |21.1        |25.5        |16.0        |0.0                    |13.5              |40.0              |1023.2                    |\n",
      "|Zagreb  |2020-06-13  |24.2        |29.5        |14.7        |0.0                    |10.7              |25.9              |1009.1                    |\n",
      "|Oslo    |2020-06-14  |20.3        |26.5        |12.5        |0.0                    |7.8               |32.0              |1022.5                    |\n",
      "|Munich  |2020-06-14  |14.0        |15.1        |12.7        |23.3                   |18.4              |46.1              |1013.8                    |\n",
      "|Zagreb  |2020-06-14  |23.1        |28.8        |15.9        |7.3                    |9.4               |25.9              |1008.0                    |\n",
      "|Kyiv    |2020-06-14  |20.3        |26.1        |17.8        |0.0                    |13.8              |27.8              |1007.2                    |\n",
      "|Paris   |2020-06-14  |17.8        |23.3        |13.2        |0.0                    |9.8               |0.0               |1016.1                    |\n",
      "|Oslo    |2020-06-15  |22.4        |28.8        |12.3        |0.0                    |9.1               |26.0              |1017.3                    |\n",
      "|Zagreb  |2020-06-15  |18.2        |19.5        |16.8        |38.6                   |4.8               |14.8              |1011.8                    |\n",
      "|Kyiv    |2020-06-15  |22.9        |29.3        |17.0        |0.0                    |8.7               |22.2              |1011.4                    |\n",
      "|Paris   |2020-06-15  |17.9        |22.5        |13.8        |0.0                    |10.5              |0.0               |1017.9                    |\n",
      "|Munich  |2020-06-15  |13.5        |14.7        |12.7        |27.2                   |15.8              |37.8              |1016.7                    |\n",
      "|Munich  |2020-06-16  |15.3        |19.7        |12.9        |1.2                    |7.6               |22.3              |1015.0                    |\n",
      "|Kyiv    |2020-06-16  |23.7        |29.3        |18.4        |0.0                    |10.1              |22.2              |1011.0                    |\n",
      "|Paris   |2020-06-16  |18.2        |23.8        |14.5        |0.0                    |9.4               |0.0               |1015.8                    |\n",
      "|Zagreb  |2020-06-16  |20.6        |24.1        |15.8        |2.7                    |7.8               |16.7              |1011.9                    |\n",
      "|Oslo    |2020-06-16  |22.7        |29.6        |17.1        |0.6                    |10.8              |47.0              |1014.8                    |\n",
      "|Zagreb  |2020-06-17  |20.7        |24.4        |17.0        |0.1                    |8.4               |16.7              |1009.5                    |\n",
      "|Oslo    |2020-06-17  |22.1        |27.1        |16.7        |0.0                    |8.4               |35.0              |1013.5                    |\n",
      "|Kyiv    |2020-06-17  |22.0        |27.2        |18.0        |15.0                   |9.6               |25.9              |1009.6                    |\n",
      "|Munich  |2020-06-17  |16.1        |24.0        |13.0        |10.9                   |10.1              |52.9              |1010.5                    |\n",
      "|Paris   |2020-06-17  |17.7        |21.6        |14.1        |0.0                    |6.9               |0.0               |1012.9                    |\n",
      "|Munich  |2020-06-18  |17.1        |22.9        |11.8        |0.0                    |10.1              |31.7              |1012.6                    |\n",
      "|Zagreb  |2020-06-18  |23.4        |26.7        |15.8        |0.0                    |8.9               |20.4              |1010.4                    |\n",
      "|Kyiv    |2020-06-18  |22.4        |29.0        |17.0        |0.0                    |5.9               |20.4              |1010.9                    |\n",
      "|Paris   |2020-06-18  |17.7        |22.3        |14.2        |0.0                    |11.0              |0.0               |1012.3                    |\n",
      "|Oslo    |2020-06-18  |22.8        |29.3        |15.2        |0.0                    |7.1               |20.0              |1013.8                    |\n",
      "|Munich  |2020-06-19  |13.9        |15.1        |12.5        |11.7                   |12.6              |30.2              |1017.4                    |\n",
      "|Zagreb  |2020-06-19  |20.1        |26.1        |15.6        |13.7                   |8.9               |24.1              |1012.7                    |\n",
      "|Kyiv    |2020-06-19  |23.9        |30.1        |18.0        |0.0                    |11.0              |22.2              |1010.6                    |\n",
      "|Oslo    |2020-06-19  |24.6        |29.9        |17.8        |0.0                    |9.9               |36.0              |1014.3                    |\n",
      "|Paris   |2020-06-19  |17.4        |21.1        |13.0        |0.5                    |9.2               |0.0               |1017.7                    |\n",
      "|Paris   |2020-06-20  |20.1        |25.0        |15.9        |0.0                    |6.4               |0.0               |1021.0                    |\n",
      "|Zagreb  |2020-06-20  |18.8        |22.8        |15.6        |2.9                    |7.2               |16.7              |1015.6                    |\n",
      "|Munich  |2020-06-20  |14.8        |19.7        |12.1        |21.0                   |10.1              |64.4              |1020.2                    |\n",
      "|Oslo    |2020-06-20  |22.1        |28.5        |19.5        |5.9                    |11.9              |48.0              |1016.7                    |\n",
      "|Kyiv    |2020-06-20  |22.1        |27.4        |18.0        |1.0                    |12.2              |24.1              |1008.7                    |\n",
      "-------------------------------------------------------------------------------------------------------------------------------------------------------\n",
      "\n"
     ]
    }
   ],
   "source": [
    "df = df.na.fill({\"TOTAL_PRECIPITATION\": 0, \"AVG_WIND_SPEED\": 0, \"WIND_PEAK_GUST\": 0, \"SEA_LEVEL_AIR_PRESSURE\": 0})\n",
    "df.show(100)\n"
   ]
  },
  {
   "cell_type": "code",
   "execution_count": null,
   "metadata": {},
   "outputs": [],
   "source": [
    "df.show(100)"
   ]
  },
  {
   "cell_type": "code",
   "execution_count": null,
   "metadata": {},
   "outputs": [],
   "source": [
    "window_spec = Window.partition_by(f.month(f.col(\"DATE\"))).order_by(f.col(\"CITY\"))\n"
   ]
  },
  {
   "cell_type": "code",
   "execution_count": 77,
   "metadata": {},
   "outputs": [],
   "source": [
    "df = df.group_by(\"CITY\").agg(f.avg(\"TEMP_AVG\").alias(\"MONTHLY_AVERAGE_TEMP\"))"
   ]
  },
  {
   "cell_type": "code",
   "execution_count": 78,
   "metadata": {},
   "outputs": [],
   "source": [
    "df = df.with_column(\"TEMP_AVG\", f.avg(\"MONTHLY_AVERAGE_TEMP\").over(window_spec))"
   ]
  },
  {
   "cell_type": "code",
   "execution_count": 79,
   "metadata": {},
   "outputs": [
    {
     "ename": "SnowparkSQLException",
     "evalue": "(1304): 01b873dc-0001-401a-0000-ed5900049482: 000904 (42000): SQL compilation error: error line 1 at position 92\ninvalid identifier 'DATE'",
     "output_type": "error",
     "traceback": [
      "\u001b[0;31m---------------------------------------------------------------------------\u001b[0m",
      "\u001b[0;31mSnowparkSQLException\u001b[0m                      Traceback (most recent call last)",
      "Cell \u001b[0;32mIn[79], line 1\u001b[0m\n\u001b[0;32m----> 1\u001b[0m \u001b[43mdf\u001b[49m\u001b[38;5;241;43m.\u001b[39;49m\u001b[43mshow\u001b[49m\u001b[43m(\u001b[49m\u001b[43m)\u001b[49m\n",
      "File \u001b[0;32m~/.local/lib/python3.10/site-packages/snowflake/snowpark/_internal/telemetry.py:172\u001b[0m, in \u001b[0;36mdf_collect_api_telemetry.<locals>.wrap\u001b[0;34m(*args, **kwargs)\u001b[0m\n\u001b[1;32m    169\u001b[0m \u001b[38;5;129m@functools\u001b[39m\u001b[38;5;241m.\u001b[39mwraps(func)\n\u001b[1;32m    170\u001b[0m \u001b[38;5;28;01mdef\u001b[39;00m \u001b[38;5;21mwrap\u001b[39m(\u001b[38;5;241m*\u001b[39margs, \u001b[38;5;241m*\u001b[39m\u001b[38;5;241m*\u001b[39mkwargs):\n\u001b[1;32m    171\u001b[0m     \u001b[38;5;28;01mwith\u001b[39;00m args[\u001b[38;5;241m0\u001b[39m]\u001b[38;5;241m.\u001b[39m_session\u001b[38;5;241m.\u001b[39mquery_history() \u001b[38;5;28;01mas\u001b[39;00m query_history:\n\u001b[0;32m--> 172\u001b[0m         result \u001b[38;5;241m=\u001b[39m \u001b[43mfunc\u001b[49m\u001b[43m(\u001b[49m\u001b[38;5;241;43m*\u001b[39;49m\u001b[43margs\u001b[49m\u001b[43m,\u001b[49m\u001b[43m \u001b[49m\u001b[38;5;241;43m*\u001b[39;49m\u001b[38;5;241;43m*\u001b[39;49m\u001b[43mkwargs\u001b[49m\u001b[43m)\u001b[49m\n\u001b[1;32m    173\u001b[0m     plan \u001b[38;5;241m=\u001b[39m args[\u001b[38;5;241m0\u001b[39m]\u001b[38;5;241m.\u001b[39m_select_statement \u001b[38;5;129;01mor\u001b[39;00m args[\u001b[38;5;241m0\u001b[39m]\u001b[38;5;241m.\u001b[39m_plan\n\u001b[1;32m    174\u001b[0m     api_calls \u001b[38;5;241m=\u001b[39m [\n\u001b[1;32m    175\u001b[0m         \u001b[38;5;241m*\u001b[39mplan\u001b[38;5;241m.\u001b[39mapi_calls,\n\u001b[1;32m    176\u001b[0m         {TelemetryField\u001b[38;5;241m.\u001b[39mNAME\u001b[38;5;241m.\u001b[39mvalue: \u001b[38;5;124mf\u001b[39m\u001b[38;5;124m\"\u001b[39m\u001b[38;5;124mDataFrame.\u001b[39m\u001b[38;5;132;01m{\u001b[39;00mfunc\u001b[38;5;241m.\u001b[39m\u001b[38;5;18m__name__\u001b[39m\u001b[38;5;132;01m}\u001b[39;00m\u001b[38;5;124m\"\u001b[39m},\n\u001b[1;32m    177\u001b[0m     ]\n",
      "File \u001b[0;32m~/.local/lib/python3.10/site-packages/snowflake/snowpark/dataframe.py:3218\u001b[0m, in \u001b[0;36mDataFrame.show\u001b[0;34m(self, n, max_width, statement_params)\u001b[0m\n\u001b[1;32m   3206\u001b[0m \u001b[38;5;250m\u001b[39m\u001b[38;5;124;03m\"\"\"Evaluates this DataFrame and prints out the first ``n`` rows with the\u001b[39;00m\n\u001b[1;32m   3207\u001b[0m \u001b[38;5;124;03mspecified maximum number of characters per column.\u001b[39;00m\n\u001b[1;32m   3208\u001b[0m \n\u001b[0;32m   (...)\u001b[0m\n\u001b[1;32m   3214\u001b[0m \u001b[38;5;124;03m    statement_params: Dictionary of statement level parameters to be set while executing this action.\u001b[39;00m\n\u001b[1;32m   3215\u001b[0m \u001b[38;5;124;03m\"\"\"\u001b[39;00m\n\u001b[1;32m   3216\u001b[0m \u001b[38;5;28;01mwith\u001b[39;00m open_telemetry_context_manager(\u001b[38;5;28mself\u001b[39m\u001b[38;5;241m.\u001b[39mshow, \u001b[38;5;28mself\u001b[39m):\n\u001b[1;32m   3217\u001b[0m     \u001b[38;5;28mprint\u001b[39m(  \u001b[38;5;66;03m# noqa: T201: we need to print here.\u001b[39;00m\n\u001b[0;32m-> 3218\u001b[0m         \u001b[38;5;28;43mself\u001b[39;49m\u001b[38;5;241;43m.\u001b[39;49m\u001b[43m_show_string\u001b[49m\u001b[43m(\u001b[49m\n\u001b[1;32m   3219\u001b[0m \u001b[43m            \u001b[49m\u001b[43mn\u001b[49m\u001b[43m,\u001b[49m\n\u001b[1;32m   3220\u001b[0m \u001b[43m            \u001b[49m\u001b[43mmax_width\u001b[49m\u001b[43m,\u001b[49m\n\u001b[1;32m   3221\u001b[0m \u001b[43m            \u001b[49m\u001b[43m_statement_params\u001b[49m\u001b[38;5;241;43m=\u001b[39;49m\u001b[43mcreate_or_update_statement_params_with_query_tag\u001b[49m\u001b[43m(\u001b[49m\n\u001b[1;32m   3222\u001b[0m \u001b[43m                \u001b[49m\u001b[43mstatement_params\u001b[49m\u001b[43m \u001b[49m\u001b[38;5;129;43;01mor\u001b[39;49;00m\u001b[43m \u001b[49m\u001b[38;5;28;43mself\u001b[39;49m\u001b[38;5;241;43m.\u001b[39;49m\u001b[43m_statement_params\u001b[49m\u001b[43m,\u001b[49m\n\u001b[1;32m   3223\u001b[0m \u001b[43m                \u001b[49m\u001b[38;5;28;43mself\u001b[39;49m\u001b[38;5;241;43m.\u001b[39;49m\u001b[43m_session\u001b[49m\u001b[38;5;241;43m.\u001b[39;49m\u001b[43mquery_tag\u001b[49m\u001b[43m,\u001b[49m\n\u001b[1;32m   3224\u001b[0m \u001b[43m                \u001b[49m\u001b[43mSKIP_LEVELS_TWO\u001b[49m\u001b[43m,\u001b[49m\n\u001b[1;32m   3225\u001b[0m \u001b[43m            \u001b[49m\u001b[43m)\u001b[49m\u001b[43m,\u001b[49m\n\u001b[1;32m   3226\u001b[0m \u001b[43m        \u001b[49m\u001b[43m)\u001b[49m\n\u001b[1;32m   3227\u001b[0m     )\n",
      "File \u001b[0;32m~/.local/lib/python3.10/site-packages/snowflake/snowpark/dataframe.py:3337\u001b[0m, in \u001b[0;36mDataFrame._show_string\u001b[0;34m(self, n, max_width, **kwargs)\u001b[0m\n\u001b[1;32m   3333\u001b[0m query \u001b[38;5;241m=\u001b[39m \u001b[38;5;28mself\u001b[39m\u001b[38;5;241m.\u001b[39m_plan\u001b[38;5;241m.\u001b[39mqueries[\u001b[38;5;241m-\u001b[39m\u001b[38;5;241m1\u001b[39m]\u001b[38;5;241m.\u001b[39msql\u001b[38;5;241m.\u001b[39mstrip()\u001b[38;5;241m.\u001b[39mlower()\n\u001b[1;32m   3335\u001b[0m \u001b[38;5;28;01mif\u001b[39;00m is_sql_select_statement(query):\n\u001b[1;32m   3336\u001b[0m     result, meta \u001b[38;5;241m=\u001b[39m \u001b[38;5;28mself\u001b[39m\u001b[38;5;241m.\u001b[39m_session\u001b[38;5;241m.\u001b[39m_conn\u001b[38;5;241m.\u001b[39mget_result_and_metadata(\n\u001b[0;32m-> 3337\u001b[0m         \u001b[38;5;28;43mself\u001b[39;49m\u001b[38;5;241;43m.\u001b[39;49m\u001b[43mlimit\u001b[49m\u001b[43m(\u001b[49m\u001b[43mn\u001b[49m\u001b[43m)\u001b[49m\u001b[38;5;241m.\u001b[39m_plan, \u001b[38;5;241m*\u001b[39m\u001b[38;5;241m*\u001b[39mkwargs\n\u001b[1;32m   3338\u001b[0m     )\n\u001b[1;32m   3339\u001b[0m \u001b[38;5;28;01melse\u001b[39;00m:\n\u001b[1;32m   3340\u001b[0m     res, meta \u001b[38;5;241m=\u001b[39m \u001b[38;5;28mself\u001b[39m\u001b[38;5;241m.\u001b[39m_session\u001b[38;5;241m.\u001b[39m_conn\u001b[38;5;241m.\u001b[39mget_result_and_metadata(\n\u001b[1;32m   3341\u001b[0m         \u001b[38;5;28mself\u001b[39m\u001b[38;5;241m.\u001b[39m_plan, \u001b[38;5;241m*\u001b[39m\u001b[38;5;241m*\u001b[39mkwargs\n\u001b[1;32m   3342\u001b[0m     )\n",
      "File \u001b[0;32m~/.local/lib/python3.10/site-packages/snowflake/snowpark/_internal/telemetry.py:249\u001b[0m, in \u001b[0;36mdf_api_usage.<locals>.wrap\u001b[0;34m(*args, **kwargs)\u001b[0m\n\u001b[1;32m    247\u001b[0m \u001b[38;5;129m@functools\u001b[39m\u001b[38;5;241m.\u001b[39mwraps(func)\n\u001b[1;32m    248\u001b[0m \u001b[38;5;28;01mdef\u001b[39;00m \u001b[38;5;21mwrap\u001b[39m(\u001b[38;5;241m*\u001b[39margs, \u001b[38;5;241m*\u001b[39m\u001b[38;5;241m*\u001b[39mkwargs):\n\u001b[0;32m--> 249\u001b[0m     r \u001b[38;5;241m=\u001b[39m \u001b[43mfunc\u001b[49m\u001b[43m(\u001b[49m\u001b[38;5;241;43m*\u001b[39;49m\u001b[43margs\u001b[49m\u001b[43m,\u001b[49m\u001b[43m \u001b[49m\u001b[38;5;241;43m*\u001b[39;49m\u001b[38;5;241;43m*\u001b[39;49m\u001b[43mkwargs\u001b[49m\u001b[43m)\u001b[49m\n\u001b[1;32m    250\u001b[0m     plan \u001b[38;5;241m=\u001b[39m r\u001b[38;5;241m.\u001b[39m_select_statement \u001b[38;5;129;01mor\u001b[39;00m r\u001b[38;5;241m.\u001b[39m_plan\n\u001b[1;32m    251\u001b[0m     \u001b[38;5;66;03m# Some DataFrame APIs call other DataFrame APIs, so we need to remove the extra call\u001b[39;00m\n",
      "File \u001b[0;32m~/.local/lib/python3.10/site-packages/snowflake/snowpark/dataframe.py:1891\u001b[0m, in \u001b[0;36mDataFrame.limit\u001b[0;34m(self, n, offset)\u001b[0m\n\u001b[1;32m   1863\u001b[0m \u001b[38;5;250m\u001b[39m\u001b[38;5;124;03m\"\"\"Returns a new DataFrame that contains at most ``n`` rows from the current\u001b[39;00m\n\u001b[1;32m   1864\u001b[0m \u001b[38;5;124;03mDataFrame, skipping ``offset`` rows from the beginning (similar to LIMIT and OFFSET in SQL).\u001b[39;00m\n\u001b[1;32m   1865\u001b[0m \n\u001b[0;32m   (...)\u001b[0m\n\u001b[1;32m   1888\u001b[0m \u001b[38;5;124;03m    <BLANKLINE>\u001b[39;00m\n\u001b[1;32m   1889\u001b[0m \u001b[38;5;124;03m\"\"\"\u001b[39;00m\n\u001b[1;32m   1890\u001b[0m \u001b[38;5;28;01mif\u001b[39;00m \u001b[38;5;28mself\u001b[39m\u001b[38;5;241m.\u001b[39m_select_statement:\n\u001b[0;32m-> 1891\u001b[0m     \u001b[38;5;28;01mreturn\u001b[39;00m \u001b[38;5;28mself\u001b[39m\u001b[38;5;241m.\u001b[39m_with_plan(\u001b[38;5;28;43mself\u001b[39;49m\u001b[38;5;241;43m.\u001b[39;49m\u001b[43m_select_statement\u001b[49m\u001b[38;5;241;43m.\u001b[39;49m\u001b[43mlimit\u001b[49m\u001b[43m(\u001b[49m\u001b[43mn\u001b[49m\u001b[43m,\u001b[49m\u001b[43m \u001b[49m\u001b[43moffset\u001b[49m\u001b[38;5;241;43m=\u001b[39;49m\u001b[43moffset\u001b[49m\u001b[43m)\u001b[49m)\n\u001b[1;32m   1892\u001b[0m \u001b[38;5;28;01mreturn\u001b[39;00m \u001b[38;5;28mself\u001b[39m\u001b[38;5;241m.\u001b[39m_with_plan(Limit(Literal(n), Literal(offset), \u001b[38;5;28mself\u001b[39m\u001b[38;5;241m.\u001b[39m_plan))\n",
      "File \u001b[0;32m~/.local/lib/python3.10/site-packages/snowflake/snowpark/_internal/analyzer/select_statement.py:1282\u001b[0m, in \u001b[0;36mSelectStatement.limit\u001b[0;34m(self, n, offset)\u001b[0m\n\u001b[1;32m   1280\u001b[0m new\u001b[38;5;241m.\u001b[39mlimit_ \u001b[38;5;241m=\u001b[39m \u001b[38;5;28mmin\u001b[39m(\u001b[38;5;28mself\u001b[39m\u001b[38;5;241m.\u001b[39mlimit_, n) \u001b[38;5;28;01mif\u001b[39;00m \u001b[38;5;28mself\u001b[39m\u001b[38;5;241m.\u001b[39mlimit_ \u001b[38;5;28;01melse\u001b[39;00m n\n\u001b[1;32m   1281\u001b[0m new\u001b[38;5;241m.\u001b[39moffset \u001b[38;5;241m=\u001b[39m offset \u001b[38;5;129;01mor\u001b[39;00m \u001b[38;5;28mself\u001b[39m\u001b[38;5;241m.\u001b[39moffset\n\u001b[0;32m-> 1282\u001b[0m new\u001b[38;5;241m.\u001b[39mcolumn_states \u001b[38;5;241m=\u001b[39m \u001b[38;5;28;43mself\u001b[39;49m\u001b[38;5;241;43m.\u001b[39;49m\u001b[43mcolumn_states\u001b[49m\n\u001b[1;32m   1283\u001b[0m new\u001b[38;5;241m.\u001b[39mpre_actions \u001b[38;5;241m=\u001b[39m new\u001b[38;5;241m.\u001b[39mfrom_\u001b[38;5;241m.\u001b[39mpre_actions\n\u001b[1;32m   1284\u001b[0m new\u001b[38;5;241m.\u001b[39mpost_actions \u001b[38;5;241m=\u001b[39m new\u001b[38;5;241m.\u001b[39mfrom_\u001b[38;5;241m.\u001b[39mpost_actions\n",
      "File \u001b[0;32m~/.local/lib/python3.10/site-packages/snowflake/snowpark/_internal/analyzer/select_statement.py:770\u001b[0m, in \u001b[0;36mSelectStatement.column_states\u001b[0;34m(self)\u001b[0m\n\u001b[1;32m    768\u001b[0m         \u001b[38;5;28mself\u001b[39m\u001b[38;5;241m.\u001b[39mcolumn_states \u001b[38;5;241m=\u001b[39m \u001b[38;5;28mself\u001b[39m\u001b[38;5;241m.\u001b[39mfrom_\u001b[38;5;241m.\u001b[39mcolumn_states\n\u001b[1;32m    769\u001b[0m     \u001b[38;5;28;01melse\u001b[39;00m:\n\u001b[0;32m--> 770\u001b[0m         \u001b[38;5;28;43msuper\u001b[39;49m\u001b[43m(\u001b[49m\u001b[43m)\u001b[49m\u001b[38;5;241;43m.\u001b[39;49m\u001b[43mcolumn_states\u001b[49m  \u001b[38;5;66;03m# will assign value to self._column_states\u001b[39;00m\n\u001b[1;32m    771\u001b[0m \u001b[38;5;28;01massert\u001b[39;00m \u001b[38;5;28mself\u001b[39m\u001b[38;5;241m.\u001b[39m_column_states \u001b[38;5;129;01mis\u001b[39;00m \u001b[38;5;129;01mnot\u001b[39;00m \u001b[38;5;28;01mNone\u001b[39;00m\n\u001b[1;32m    772\u001b[0m \u001b[38;5;28;01mreturn\u001b[39;00m \u001b[38;5;28mself\u001b[39m\u001b[38;5;241m.\u001b[39m_column_states\n",
      "File \u001b[0;32m~/.local/lib/python3.10/site-packages/snowflake/snowpark/_internal/analyzer/select_statement.py:372\u001b[0m, in \u001b[0;36mSelectable.column_states\u001b[0;34m(self)\u001b[0m\n\u001b[1;32m    367\u001b[0m         column_attrs \u001b[38;5;241m=\u001b[39m [\n\u001b[1;32m    368\u001b[0m             Attribute(q, DataType())\n\u001b[1;32m    369\u001b[0m             \u001b[38;5;28;01mfor\u001b[39;00m q \u001b[38;5;129;01min\u001b[39;00m \u001b[38;5;28mself\u001b[39m\u001b[38;5;241m.\u001b[39msnowflake_plan\u001b[38;5;241m.\u001b[39mquoted_identifiers\n\u001b[1;32m    370\u001b[0m         ]\n\u001b[1;32m    371\u001b[0m     \u001b[38;5;28;01melse\u001b[39;00m:\n\u001b[0;32m--> 372\u001b[0m         column_attrs \u001b[38;5;241m=\u001b[39m \u001b[38;5;28;43mself\u001b[39;49m\u001b[38;5;241;43m.\u001b[39;49m\u001b[43msnowflake_plan\u001b[49m\u001b[38;5;241;43m.\u001b[39;49m\u001b[43mattributes\u001b[49m\n\u001b[1;32m    373\u001b[0m     \u001b[38;5;28mself\u001b[39m\u001b[38;5;241m.\u001b[39m_column_states \u001b[38;5;241m=\u001b[39m initiate_column_states(\n\u001b[1;32m    374\u001b[0m         column_attrs,\n\u001b[1;32m    375\u001b[0m         \u001b[38;5;28mself\u001b[39m\u001b[38;5;241m.\u001b[39manalyzer,\n\u001b[1;32m    376\u001b[0m         \u001b[38;5;28mself\u001b[39m\u001b[38;5;241m.\u001b[39mdf_aliased_col_name_to_real_col_name,\n\u001b[1;32m    377\u001b[0m     )\n\u001b[1;32m    378\u001b[0m \u001b[38;5;28;01mreturn\u001b[39;00m \u001b[38;5;28mself\u001b[39m\u001b[38;5;241m.\u001b[39m_column_states\n",
      "File \u001b[0;32m~/.local/lib/python3.10/site-packages/snowflake/snowpark/_internal/analyzer/snowflake_plan.py:355\u001b[0m, in \u001b[0;36mSnowflakePlan.attributes\u001b[0;34m(self)\u001b[0m\n\u001b[1;32m    351\u001b[0m     \u001b[38;5;28;01mreturn\u001b[39;00m \u001b[38;5;28mself\u001b[39m\u001b[38;5;241m.\u001b[39m_metadata\u001b[38;5;241m.\u001b[39mattributes\n\u001b[1;32m    352\u001b[0m \u001b[38;5;28;01massert\u001b[39;00m (\n\u001b[1;32m    353\u001b[0m     \u001b[38;5;28mself\u001b[39m\u001b[38;5;241m.\u001b[39mschema_query \u001b[38;5;129;01mis\u001b[39;00m \u001b[38;5;129;01mnot\u001b[39;00m \u001b[38;5;28;01mNone\u001b[39;00m\n\u001b[1;32m    354\u001b[0m ), \u001b[38;5;124m\"\u001b[39m\u001b[38;5;124mNo schema query is available for the SnowflakePlan\u001b[39m\u001b[38;5;124m\"\u001b[39m\n\u001b[0;32m--> 355\u001b[0m attributes \u001b[38;5;241m=\u001b[39m \u001b[43manalyze_attributes\u001b[49m\u001b[43m(\u001b[49m\u001b[38;5;28;43mself\u001b[39;49m\u001b[38;5;241;43m.\u001b[39;49m\u001b[43mschema_query\u001b[49m\u001b[43m,\u001b[49m\u001b[43m \u001b[49m\u001b[38;5;28;43mself\u001b[39;49m\u001b[38;5;241;43m.\u001b[39;49m\u001b[43msession\u001b[49m\u001b[43m)\u001b[49m\n\u001b[1;32m    356\u001b[0m \u001b[38;5;28mself\u001b[39m\u001b[38;5;241m.\u001b[39m_metadata \u001b[38;5;241m=\u001b[39m PlanMetadata(attributes\u001b[38;5;241m=\u001b[39mattributes, quoted_identifiers\u001b[38;5;241m=\u001b[39m\u001b[38;5;28;01mNone\u001b[39;00m)\n\u001b[1;32m    357\u001b[0m \u001b[38;5;66;03m# We need to cache attributes on SelectStatement too because df._plan is not\u001b[39;00m\n\u001b[1;32m    358\u001b[0m \u001b[38;5;66;03m# carried over to next SelectStatement (e.g., check the implementation of df.filter()).\u001b[39;00m\n",
      "File \u001b[0;32m~/.local/lib/python3.10/site-packages/snowflake/snowpark/_internal/analyzer/schema_utils.py:93\u001b[0m, in \u001b[0;36manalyze_attributes\u001b[0;34m(sql, session)\u001b[0m\n\u001b[1;32m     88\u001b[0m     session\u001b[38;5;241m.\u001b[39m_run_query(sql)\n\u001b[1;32m     89\u001b[0m     \u001b[38;5;28;01mreturn\u001b[39;00m convert_result_meta_to_attribute(\n\u001b[1;32m     90\u001b[0m         session\u001b[38;5;241m.\u001b[39m_conn\u001b[38;5;241m.\u001b[39m_cursor\u001b[38;5;241m.\u001b[39mdescription, session\u001b[38;5;241m.\u001b[39m_conn\u001b[38;5;241m.\u001b[39mmax_string_size\n\u001b[1;32m     91\u001b[0m     )\n\u001b[0;32m---> 93\u001b[0m \u001b[38;5;28;01mreturn\u001b[39;00m \u001b[43msession\u001b[49m\u001b[38;5;241;43m.\u001b[39;49m\u001b[43m_get_result_attributes\u001b[49m\u001b[43m(\u001b[49m\u001b[43msql\u001b[49m\u001b[43m)\u001b[49m\n",
      "File \u001b[0;32m~/.local/lib/python3.10/site-packages/snowflake/snowpark/session.py:2438\u001b[0m, in \u001b[0;36mSession._get_result_attributes\u001b[0;34m(self, query)\u001b[0m\n\u001b[1;32m   2437\u001b[0m \u001b[38;5;28;01mdef\u001b[39;00m \u001b[38;5;21m_get_result_attributes\u001b[39m(\u001b[38;5;28mself\u001b[39m, query: \u001b[38;5;28mstr\u001b[39m) \u001b[38;5;241m-\u001b[39m\u001b[38;5;241m>\u001b[39m List[Attribute]:\n\u001b[0;32m-> 2438\u001b[0m     \u001b[38;5;28;01mreturn\u001b[39;00m \u001b[38;5;28;43mself\u001b[39;49m\u001b[38;5;241;43m.\u001b[39;49m\u001b[43m_conn\u001b[49m\u001b[38;5;241;43m.\u001b[39;49m\u001b[43mget_result_attributes\u001b[49m\u001b[43m(\u001b[49m\u001b[43mquery\u001b[49m\u001b[43m)\u001b[49m\n",
      "File \u001b[0;32m~/.local/lib/python3.10/site-packages/snowflake/snowpark/_internal/analyzer/snowflake_plan.py:200\u001b[0m, in \u001b[0;36mSnowflakePlan.Decorator.wrap_exception.<locals>.wrap\u001b[0;34m(*args, **kwargs)\u001b[0m\n\u001b[1;32m    196\u001b[0m     \u001b[38;5;28;01melse\u001b[39;00m:\n\u001b[1;32m    197\u001b[0m         ne \u001b[38;5;241m=\u001b[39m SnowparkClientExceptionMessages\u001b[38;5;241m.\u001b[39mSQL_EXCEPTION_FROM_PROGRAMMING_ERROR(\n\u001b[1;32m    198\u001b[0m             e\n\u001b[1;32m    199\u001b[0m         )\n\u001b[0;32m--> 200\u001b[0m         \u001b[38;5;28;01mraise\u001b[39;00m ne\u001b[38;5;241m.\u001b[39mwith_traceback(tb) \u001b[38;5;28;01mfrom\u001b[39;00m \u001b[38;5;28;01mNone\u001b[39;00m\n\u001b[1;32m    201\u001b[0m \u001b[38;5;28;01melse\u001b[39;00m:\n\u001b[1;32m    202\u001b[0m     ne \u001b[38;5;241m=\u001b[39m SnowparkClientExceptionMessages\u001b[38;5;241m.\u001b[39mSQL_EXCEPTION_FROM_PROGRAMMING_ERROR(\n\u001b[1;32m    203\u001b[0m         e\n\u001b[1;32m    204\u001b[0m     )\n",
      "File \u001b[0;32m~/.local/lib/python3.10/site-packages/snowflake/snowpark/_internal/analyzer/snowflake_plan.py:136\u001b[0m, in \u001b[0;36mSnowflakePlan.Decorator.wrap_exception.<locals>.wrap\u001b[0;34m(*args, **kwargs)\u001b[0m\n\u001b[1;32m    134\u001b[0m \u001b[38;5;28;01mdef\u001b[39;00m \u001b[38;5;21mwrap\u001b[39m(\u001b[38;5;241m*\u001b[39margs, \u001b[38;5;241m*\u001b[39m\u001b[38;5;241m*\u001b[39mkwargs):\n\u001b[1;32m    135\u001b[0m     \u001b[38;5;28;01mtry\u001b[39;00m:\n\u001b[0;32m--> 136\u001b[0m         \u001b[38;5;28;01mreturn\u001b[39;00m \u001b[43mfunc\u001b[49m\u001b[43m(\u001b[49m\u001b[38;5;241;43m*\u001b[39;49m\u001b[43margs\u001b[49m\u001b[43m,\u001b[49m\u001b[43m \u001b[49m\u001b[38;5;241;43m*\u001b[39;49m\u001b[38;5;241;43m*\u001b[39;49m\u001b[43mkwargs\u001b[49m\u001b[43m)\u001b[49m\n\u001b[1;32m    137\u001b[0m     \u001b[38;5;28;01mexcept\u001b[39;00m snowflake\u001b[38;5;241m.\u001b[39mconnector\u001b[38;5;241m.\u001b[39merrors\u001b[38;5;241m.\u001b[39mProgrammingError \u001b[38;5;28;01mas\u001b[39;00m e:\n\u001b[1;32m    138\u001b[0m         query \u001b[38;5;241m=\u001b[39m \u001b[38;5;28mgetattr\u001b[39m(e, \u001b[38;5;124m\"\u001b[39m\u001b[38;5;124mquery\u001b[39m\u001b[38;5;124m\"\u001b[39m, \u001b[38;5;28;01mNone\u001b[39;00m)\n",
      "File \u001b[0;32m~/.local/lib/python3.10/site-packages/snowflake/snowpark/_internal/server_connection.py:268\u001b[0m, in \u001b[0;36mServerConnection.get_result_attributes\u001b[0;34m(self, query)\u001b[0m\n\u001b[1;32m    265\u001b[0m \u001b[38;5;129m@SnowflakePlan\u001b[39m\u001b[38;5;241m.\u001b[39mDecorator\u001b[38;5;241m.\u001b[39mwrap_exception\n\u001b[1;32m    266\u001b[0m \u001b[38;5;28;01mdef\u001b[39;00m \u001b[38;5;21mget_result_attributes\u001b[39m(\u001b[38;5;28mself\u001b[39m, query: \u001b[38;5;28mstr\u001b[39m) \u001b[38;5;241m-\u001b[39m\u001b[38;5;241m>\u001b[39m List[Attribute]:\n\u001b[1;32m    267\u001b[0m     \u001b[38;5;28;01mreturn\u001b[39;00m convert_result_meta_to_attribute(\n\u001b[0;32m--> 268\u001b[0m         \u001b[38;5;28;43mself\u001b[39;49m\u001b[38;5;241;43m.\u001b[39;49m\u001b[43m_run_new_describe\u001b[49m\u001b[43m(\u001b[49m\u001b[38;5;28;43mself\u001b[39;49m\u001b[38;5;241;43m.\u001b[39;49m\u001b[43m_cursor\u001b[49m\u001b[43m,\u001b[49m\u001b[43m \u001b[49m\u001b[43mquery\u001b[49m\u001b[43m)\u001b[49m, \u001b[38;5;28mself\u001b[39m\u001b[38;5;241m.\u001b[39mmax_string_size\n\u001b[1;32m    269\u001b[0m     )\n",
      "File \u001b[0;32m~/.local/lib/python3.10/site-packages/snowflake/snowpark/_internal/server_connection.py:274\u001b[0m, in \u001b[0;36mServerConnection._run_new_describe\u001b[0;34m(self, cursor, query)\u001b[0m\n\u001b[1;32m    271\u001b[0m \u001b[38;5;28;01mdef\u001b[39;00m \u001b[38;5;21m_run_new_describe\u001b[39m(\n\u001b[1;32m    272\u001b[0m     \u001b[38;5;28mself\u001b[39m, cursor: SnowflakeCursor, query: \u001b[38;5;28mstr\u001b[39m\n\u001b[1;32m    273\u001b[0m ) \u001b[38;5;241m-\u001b[39m\u001b[38;5;241m>\u001b[39m Union[List[ResultMetadata], List[\u001b[38;5;124m\"\u001b[39m\u001b[38;5;124mResultMetadataV2\u001b[39m\u001b[38;5;124m\"\u001b[39m]]:\n\u001b[0;32m--> 274\u001b[0m     result_metadata \u001b[38;5;241m=\u001b[39m \u001b[43mrun_new_describe\u001b[49m\u001b[43m(\u001b[49m\u001b[43mcursor\u001b[49m\u001b[43m,\u001b[49m\u001b[43m \u001b[49m\u001b[43mquery\u001b[49m\u001b[43m)\u001b[49m\n\u001b[1;32m    276\u001b[0m     \u001b[38;5;28;01mwith\u001b[39;00m \u001b[38;5;28mself\u001b[39m\u001b[38;5;241m.\u001b[39m_lock:\n\u001b[1;32m    277\u001b[0m         \u001b[38;5;28;01mfor\u001b[39;00m listener \u001b[38;5;129;01min\u001b[39;00m \u001b[38;5;28mfilter\u001b[39m(\n\u001b[1;32m    278\u001b[0m             \u001b[38;5;28;01mlambda\u001b[39;00m listener: \u001b[38;5;28mhasattr\u001b[39m(listener, \u001b[38;5;124m\"\u001b[39m\u001b[38;5;124minclude_describe\u001b[39m\u001b[38;5;124m\"\u001b[39m)\n\u001b[1;32m    279\u001b[0m             \u001b[38;5;129;01mand\u001b[39;00m listener\u001b[38;5;241m.\u001b[39minclude_describe,\n\u001b[1;32m    280\u001b[0m             \u001b[38;5;28mself\u001b[39m\u001b[38;5;241m.\u001b[39m_query_listener,\n\u001b[1;32m    281\u001b[0m         ):\n",
      "File \u001b[0;32m~/.local/lib/python3.10/site-packages/snowflake/snowpark/_internal/analyzer/schema_utils.py:147\u001b[0m, in \u001b[0;36mrun_new_describe\u001b[0;34m(cursor, query)\u001b[0m\n\u001b[1;32m    142\u001b[0m \u001b[38;5;66;03m# ResultMetadataV2 may not currently be a type, depending on the connector\u001b[39;00m\n\u001b[1;32m    143\u001b[0m \u001b[38;5;66;03m# version, so the argument types are pyright ignored\u001b[39;00m\n\u001b[1;32m    145\u001b[0m \u001b[38;5;28;01mif\u001b[39;00m \u001b[38;5;28mhasattr\u001b[39m(cursor, \u001b[38;5;124m\"\u001b[39m\u001b[38;5;124m_describe_internal\u001b[39m\u001b[38;5;124m\"\u001b[39m):\n\u001b[1;32m    146\u001b[0m     \u001b[38;5;66;03m# Pyright does not perform narrowing here\u001b[39;00m\n\u001b[0;32m--> 147\u001b[0m     \u001b[38;5;28;01mreturn\u001b[39;00m \u001b[43mcursor\u001b[49m\u001b[38;5;241;43m.\u001b[39;49m\u001b[43m_describe_internal\u001b[49m\u001b[43m(\u001b[49m\u001b[43mquery\u001b[49m\u001b[43m)\u001b[49m  \u001b[38;5;66;03m# pyright: ignore\u001b[39;00m\n\u001b[1;32m    148\u001b[0m \u001b[38;5;28;01melse\u001b[39;00m:\n\u001b[1;32m    149\u001b[0m     \u001b[38;5;28;01mreturn\u001b[39;00m cursor\u001b[38;5;241m.\u001b[39mdescribe(query)\n",
      "File \u001b[0;32m~/.local/lib/python3.10/site-packages/snowflake/connector/cursor.py:1137\u001b[0m, in \u001b[0;36mSnowflakeCursor._describe_internal\u001b[0;34m(self, *args, **kwargs)\u001b[0m\n\u001b[1;32m   1126\u001b[0m \u001b[38;5;250m\u001b[39m\u001b[38;5;124;03m\"\"\"Obtain the schema of the result without executing the query.\u001b[39;00m\n\u001b[1;32m   1127\u001b[0m \n\u001b[1;32m   1128\u001b[0m \u001b[38;5;124;03mThis function takes the same arguments as execute, please refer to that function\u001b[39;00m\n\u001b[0;32m   (...)\u001b[0m\n\u001b[1;32m   1134\u001b[0m \u001b[38;5;124;03m    The schema of the result, in the new result metadata format.\u001b[39;00m\n\u001b[1;32m   1135\u001b[0m \u001b[38;5;124;03m\"\"\"\u001b[39;00m\n\u001b[1;32m   1136\u001b[0m kwargs[\u001b[38;5;124m\"\u001b[39m\u001b[38;5;124m_describe_only\u001b[39m\u001b[38;5;124m\"\u001b[39m] \u001b[38;5;241m=\u001b[39m kwargs[\u001b[38;5;124m\"\u001b[39m\u001b[38;5;124m_is_internal\u001b[39m\u001b[38;5;124m\"\u001b[39m] \u001b[38;5;241m=\u001b[39m \u001b[38;5;28;01mTrue\u001b[39;00m\n\u001b[0;32m-> 1137\u001b[0m \u001b[38;5;28;43mself\u001b[39;49m\u001b[38;5;241;43m.\u001b[39;49m\u001b[43mexecute\u001b[49m\u001b[43m(\u001b[49m\u001b[38;5;241;43m*\u001b[39;49m\u001b[43margs\u001b[49m\u001b[43m,\u001b[49m\u001b[43m \u001b[49m\u001b[38;5;241;43m*\u001b[39;49m\u001b[38;5;241;43m*\u001b[39;49m\u001b[43mkwargs\u001b[49m\u001b[43m)\u001b[49m\n\u001b[1;32m   1138\u001b[0m \u001b[38;5;28;01mreturn\u001b[39;00m \u001b[38;5;28mself\u001b[39m\u001b[38;5;241m.\u001b[39m_description\n",
      "File \u001b[0;32m~/.local/lib/python3.10/site-packages/snowflake/connector/cursor.py:1097\u001b[0m, in \u001b[0;36mSnowflakeCursor.execute\u001b[0;34m(self, command, params, _bind_stage, timeout, _exec_async, _no_retry, _do_reset, _put_callback, _put_azure_callback, _put_callback_output_stream, _get_callback, _get_azure_callback, _get_callback_output_stream, _show_progress_bar, _statement_params, _is_internal, _describe_only, _no_results, _is_put_get, _raise_put_get_error, _force_put_overwrite, _skip_upload_on_content_match, file_stream, num_statements, _dataframe_ast)\u001b[0m\n\u001b[1;32m   1093\u001b[0m     is_integrity_error \u001b[38;5;241m=\u001b[39m (\n\u001b[1;32m   1094\u001b[0m         code \u001b[38;5;241m==\u001b[39m \u001b[38;5;124m\"\u001b[39m\u001b[38;5;124m100072\u001b[39m\u001b[38;5;124m\"\u001b[39m\n\u001b[1;32m   1095\u001b[0m     )  \u001b[38;5;66;03m# NULL result in a non-nullable column\u001b[39;00m\n\u001b[1;32m   1096\u001b[0m     error_class \u001b[38;5;241m=\u001b[39m IntegrityError \u001b[38;5;28;01mif\u001b[39;00m is_integrity_error \u001b[38;5;28;01melse\u001b[39;00m ProgrammingError\n\u001b[0;32m-> 1097\u001b[0m     \u001b[43mError\u001b[49m\u001b[38;5;241;43m.\u001b[39;49m\u001b[43merrorhandler_wrapper\u001b[49m\u001b[43m(\u001b[49m\u001b[38;5;28;43mself\u001b[39;49m\u001b[38;5;241;43m.\u001b[39;49m\u001b[43mconnection\u001b[49m\u001b[43m,\u001b[49m\u001b[43m \u001b[49m\u001b[38;5;28;43mself\u001b[39;49m\u001b[43m,\u001b[49m\u001b[43m \u001b[49m\u001b[43merror_class\u001b[49m\u001b[43m,\u001b[49m\u001b[43m \u001b[49m\u001b[43merrvalue\u001b[49m\u001b[43m)\u001b[49m\n\u001b[1;32m   1098\u001b[0m \u001b[38;5;28;01mreturn\u001b[39;00m \u001b[38;5;28mself\u001b[39m\n",
      "File \u001b[0;32m~/.local/lib/python3.10/site-packages/snowflake/connector/errors.py:284\u001b[0m, in \u001b[0;36mError.errorhandler_wrapper\u001b[0;34m(connection, cursor, error_class, error_value)\u001b[0m\n\u001b[1;32m    261\u001b[0m \u001b[38;5;129m@staticmethod\u001b[39m\n\u001b[1;32m    262\u001b[0m \u001b[38;5;28;01mdef\u001b[39;00m \u001b[38;5;21merrorhandler_wrapper\u001b[39m(\n\u001b[1;32m    263\u001b[0m     connection: SnowflakeConnection \u001b[38;5;241m|\u001b[39m \u001b[38;5;28;01mNone\u001b[39;00m,\n\u001b[0;32m   (...)\u001b[0m\n\u001b[1;32m    266\u001b[0m     error_value: \u001b[38;5;28mdict\u001b[39m[\u001b[38;5;28mstr\u001b[39m, Any],\n\u001b[1;32m    267\u001b[0m ) \u001b[38;5;241m-\u001b[39m\u001b[38;5;241m>\u001b[39m \u001b[38;5;28;01mNone\u001b[39;00m:\n\u001b[1;32m    268\u001b[0m \u001b[38;5;250m    \u001b[39m\u001b[38;5;124;03m\"\"\"Error handler wrapper that calls the errorhandler method.\u001b[39;00m\n\u001b[1;32m    269\u001b[0m \n\u001b[1;32m    270\u001b[0m \u001b[38;5;124;03m    Args:\u001b[39;00m\n\u001b[0;32m   (...)\u001b[0m\n\u001b[1;32m    281\u001b[0m \u001b[38;5;124;03m        exception to the first handler in that order.\u001b[39;00m\n\u001b[1;32m    282\u001b[0m \u001b[38;5;124;03m    \"\"\"\u001b[39;00m\n\u001b[0;32m--> 284\u001b[0m     handed_over \u001b[38;5;241m=\u001b[39m \u001b[43mError\u001b[49m\u001b[38;5;241;43m.\u001b[39;49m\u001b[43mhand_to_other_handler\u001b[49m\u001b[43m(\u001b[49m\n\u001b[1;32m    285\u001b[0m \u001b[43m        \u001b[49m\u001b[43mconnection\u001b[49m\u001b[43m,\u001b[49m\n\u001b[1;32m    286\u001b[0m \u001b[43m        \u001b[49m\u001b[43mcursor\u001b[49m\u001b[43m,\u001b[49m\n\u001b[1;32m    287\u001b[0m \u001b[43m        \u001b[49m\u001b[43merror_class\u001b[49m\u001b[43m,\u001b[49m\n\u001b[1;32m    288\u001b[0m \u001b[43m        \u001b[49m\u001b[43merror_value\u001b[49m\u001b[43m,\u001b[49m\n\u001b[1;32m    289\u001b[0m \u001b[43m    \u001b[49m\u001b[43m)\u001b[49m\n\u001b[1;32m    290\u001b[0m     \u001b[38;5;28;01mif\u001b[39;00m \u001b[38;5;129;01mnot\u001b[39;00m handed_over:\n\u001b[1;32m    291\u001b[0m         \u001b[38;5;28;01mraise\u001b[39;00m Error\u001b[38;5;241m.\u001b[39merrorhandler_make_exception(\n\u001b[1;32m    292\u001b[0m             error_class,\n\u001b[1;32m    293\u001b[0m             error_value,\n\u001b[1;32m    294\u001b[0m         )\n",
      "File \u001b[0;32m~/.local/lib/python3.10/site-packages/snowflake/connector/errors.py:339\u001b[0m, in \u001b[0;36mError.hand_to_other_handler\u001b[0;34m(connection, cursor, error_class, error_value)\u001b[0m\n\u001b[1;32m    337\u001b[0m \u001b[38;5;28;01mif\u001b[39;00m cursor \u001b[38;5;129;01mis\u001b[39;00m \u001b[38;5;129;01mnot\u001b[39;00m \u001b[38;5;28;01mNone\u001b[39;00m:\n\u001b[1;32m    338\u001b[0m     cursor\u001b[38;5;241m.\u001b[39mmessages\u001b[38;5;241m.\u001b[39mappend((error_class, error_value))\n\u001b[0;32m--> 339\u001b[0m     \u001b[43mcursor\u001b[49m\u001b[38;5;241;43m.\u001b[39;49m\u001b[43merrorhandler\u001b[49m\u001b[43m(\u001b[49m\u001b[43mconnection\u001b[49m\u001b[43m,\u001b[49m\u001b[43m \u001b[49m\u001b[43mcursor\u001b[49m\u001b[43m,\u001b[49m\u001b[43m \u001b[49m\u001b[43merror_class\u001b[49m\u001b[43m,\u001b[49m\u001b[43m \u001b[49m\u001b[43merror_value\u001b[49m\u001b[43m)\u001b[49m\n\u001b[1;32m    340\u001b[0m     \u001b[38;5;28;01mreturn\u001b[39;00m \u001b[38;5;28;01mTrue\u001b[39;00m\n\u001b[1;32m    341\u001b[0m \u001b[38;5;28;01melif\u001b[39;00m connection \u001b[38;5;129;01mis\u001b[39;00m \u001b[38;5;129;01mnot\u001b[39;00m \u001b[38;5;28;01mNone\u001b[39;00m:\n",
      "File \u001b[0;32m~/.local/lib/python3.10/site-packages/snowflake/connector/errors.py:215\u001b[0m, in \u001b[0;36mError.default_errorhandler\u001b[0;34m(connection, cursor, error_class, error_value)\u001b[0m\n\u001b[1;32m    213\u001b[0m errno \u001b[38;5;241m=\u001b[39m error_value\u001b[38;5;241m.\u001b[39mget(\u001b[38;5;124m\"\u001b[39m\u001b[38;5;124merrno\u001b[39m\u001b[38;5;124m\"\u001b[39m)\n\u001b[1;32m    214\u001b[0m done_format_msg \u001b[38;5;241m=\u001b[39m error_value\u001b[38;5;241m.\u001b[39mget(\u001b[38;5;124m\"\u001b[39m\u001b[38;5;124mdone_format_msg\u001b[39m\u001b[38;5;124m\"\u001b[39m)\n\u001b[0;32m--> 215\u001b[0m \u001b[38;5;28;01mraise\u001b[39;00m error_class(\n\u001b[1;32m    216\u001b[0m     msg\u001b[38;5;241m=\u001b[39merror_value\u001b[38;5;241m.\u001b[39mget(\u001b[38;5;124m\"\u001b[39m\u001b[38;5;124mmsg\u001b[39m\u001b[38;5;124m\"\u001b[39m),\n\u001b[1;32m    217\u001b[0m     errno\u001b[38;5;241m=\u001b[39m\u001b[38;5;28;01mNone\u001b[39;00m \u001b[38;5;28;01mif\u001b[39;00m errno \u001b[38;5;129;01mis\u001b[39;00m \u001b[38;5;28;01mNone\u001b[39;00m \u001b[38;5;28;01melse\u001b[39;00m \u001b[38;5;28mint\u001b[39m(errno),\n\u001b[1;32m    218\u001b[0m     sqlstate\u001b[38;5;241m=\u001b[39merror_value\u001b[38;5;241m.\u001b[39mget(\u001b[38;5;124m\"\u001b[39m\u001b[38;5;124msqlstate\u001b[39m\u001b[38;5;124m\"\u001b[39m),\n\u001b[1;32m    219\u001b[0m     sfqid\u001b[38;5;241m=\u001b[39merror_value\u001b[38;5;241m.\u001b[39mget(\u001b[38;5;124m\"\u001b[39m\u001b[38;5;124msfqid\u001b[39m\u001b[38;5;124m\"\u001b[39m),\n\u001b[1;32m    220\u001b[0m     query\u001b[38;5;241m=\u001b[39merror_value\u001b[38;5;241m.\u001b[39mget(\u001b[38;5;124m\"\u001b[39m\u001b[38;5;124mquery\u001b[39m\u001b[38;5;124m\"\u001b[39m),\n\u001b[1;32m    221\u001b[0m     done_format_msg\u001b[38;5;241m=\u001b[39m(\n\u001b[1;32m    222\u001b[0m         \u001b[38;5;28;01mNone\u001b[39;00m \u001b[38;5;28;01mif\u001b[39;00m done_format_msg \u001b[38;5;129;01mis\u001b[39;00m \u001b[38;5;28;01mNone\u001b[39;00m \u001b[38;5;28;01melse\u001b[39;00m \u001b[38;5;28mbool\u001b[39m(done_format_msg)\n\u001b[1;32m    223\u001b[0m     ),\n\u001b[1;32m    224\u001b[0m     connection\u001b[38;5;241m=\u001b[39mconnection,\n\u001b[1;32m    225\u001b[0m     cursor\u001b[38;5;241m=\u001b[39mcursor,\n\u001b[1;32m    226\u001b[0m )\n",
      "\u001b[0;31mSnowparkSQLException\u001b[0m: (1304): 01b873dc-0001-401a-0000-ed5900049482: 000904 (42000): SQL compilation error: error line 1 at position 92\ninvalid identifier 'DATE'"
     ]
    }
   ],
   "source": [
    "df.show()"
   ]
  }
 ],
 "metadata": {
  "kernelspec": {
   "display_name": "Python 3",
   "language": "python",
   "name": "python3"
  },
  "language_info": {
   "codemirror_mode": {
    "name": "ipython",
    "version": 3
   },
   "file_extension": ".py",
   "mimetype": "text/x-python",
   "name": "python",
   "nbconvert_exporter": "python",
   "pygments_lexer": "ipython3",
   "version": "3.10.13"
  }
 },
 "nbformat": 4,
 "nbformat_minor": 2
}
