{
 "cells": [
  {
   "cell_type": "markdown",
   "metadata": {},
   "source": [
    "semi-structured data"
   ]
  },
  {
   "cell_type": "code",
   "execution_count": 8,
   "metadata": {},
   "outputs": [
    {
     "name": "stdout",
     "output_type": "stream",
     "text": [
      "Defaulting to user installation because normal site-packages is not writeable\n",
      "Requirement already satisfied: snowflake-connector-python in /home/olha/.local/lib/python3.10/site-packages (3.12.3)\n",
      "Requirement already satisfied: asn1crypto<2.0.0,>0.24.0 in /home/olha/.local/lib/python3.10/site-packages (from snowflake-connector-python) (1.5.1)\n",
      "Requirement already satisfied: cffi<2.0.0,>=1.9 in /usr/local/lib/python3.10/site-packages (from snowflake-connector-python) (1.17.1)\n",
      "Requirement already satisfied: cryptography>=3.1.0 in /home/olha/.local/lib/python3.10/site-packages (from snowflake-connector-python) (43.0.3)\n",
      "Requirement already satisfied: pyOpenSSL<25.0.0,>=16.2.0 in /home/olha/.local/lib/python3.10/site-packages (from snowflake-connector-python) (24.2.1)\n",
      "Requirement already satisfied: pyjwt<3.0.0 in /home/olha/.local/lib/python3.10/site-packages (from snowflake-connector-python) (2.10.0)\n",
      "Requirement already satisfied: pytz in /home/olha/.local/lib/python3.10/site-packages (from snowflake-connector-python) (2024.2)\n",
      "Requirement already satisfied: requests<3.0.0 in /usr/local/lib/python3.10/site-packages (from snowflake-connector-python) (2.32.3)\n",
      "Requirement already satisfied: packaging in /usr/local/lib/python3.10/site-packages (from snowflake-connector-python) (24.2)\n",
      "Requirement already satisfied: charset-normalizer<4,>=2 in /usr/local/lib/python3.10/site-packages (from snowflake-connector-python) (3.4.0)\n",
      "Requirement already satisfied: idna<4,>=2.5 in /usr/local/lib/python3.10/site-packages (from snowflake-connector-python) (3.10)\n",
      "Requirement already satisfied: certifi>=2017.4.17 in /usr/local/lib/python3.10/site-packages (from snowflake-connector-python) (2024.8.30)\n",
      "Requirement already satisfied: typing-extensions<5,>=4.3 in /home/olha/.local/lib/python3.10/site-packages (from snowflake-connector-python) (4.12.2)\n",
      "Requirement already satisfied: filelock<4,>=3.5 in /home/olha/.local/lib/python3.10/site-packages (from snowflake-connector-python) (3.16.1)\n",
      "Requirement already satisfied: sortedcontainers>=2.4.0 in /home/olha/.local/lib/python3.10/site-packages (from snowflake-connector-python) (2.4.0)\n",
      "Requirement already satisfied: platformdirs<5.0.0,>=2.6.0 in /usr/local/lib/python3.10/site-packages (from snowflake-connector-python) (4.3.6)\n",
      "Requirement already satisfied: tomlkit in /home/olha/.local/lib/python3.10/site-packages (from snowflake-connector-python) (0.13.2)\n",
      "Requirement already satisfied: pycparser in /usr/local/lib/python3.10/site-packages (from cffi<2.0.0,>=1.9->snowflake-connector-python) (2.22)\n",
      "Requirement already satisfied: urllib3<3,>=1.21.1 in /usr/local/lib/python3.10/site-packages (from requests<3.0.0->snowflake-connector-python) (2.2.3)\n",
      "Note: you may need to restart the kernel to use updated packages.\n",
      "Defaulting to user installation because normal site-packages is not writeable\n",
      "Requirement already satisfied: snowflake-snowpark-python in /home/olha/.local/lib/python3.10/site-packages (1.25.0)\n",
      "Requirement already satisfied: setuptools>=40.6.0 in /usr/local/lib/python3.10/site-packages (from snowflake-snowpark-python) (65.5.0)\n",
      "Requirement already satisfied: wheel in /home/olha/.local/lib/python3.10/site-packages (from snowflake-snowpark-python) (0.45.0)\n",
      "Requirement already satisfied: snowflake-connector-python<4.0.0,>=3.12.0 in /home/olha/.local/lib/python3.10/site-packages (from snowflake-snowpark-python) (3.12.3)\n",
      "Requirement already satisfied: typing-extensions<5.0.0,>=4.1.0 in /home/olha/.local/lib/python3.10/site-packages (from snowflake-snowpark-python) (4.12.2)\n",
      "Requirement already satisfied: pyyaml in /usr/local/lib/python3.10/site-packages (from snowflake-snowpark-python) (6.0.2)\n",
      "Requirement already satisfied: protobuf<6,>=3.20 in /home/olha/.local/lib/python3.10/site-packages (from snowflake-snowpark-python) (5.28.3)\n",
      "Requirement already satisfied: tzlocal in /home/olha/.local/lib/python3.10/site-packages (from snowflake-snowpark-python) (5.2)\n",
      "Requirement already satisfied: cloudpickle!=2.1.0,!=2.2.0,<=2.2.1,>=1.6.0 in /home/olha/.local/lib/python3.10/site-packages (from snowflake-snowpark-python) (2.2.1)\n",
      "Requirement already satisfied: asn1crypto<2.0.0,>0.24.0 in /home/olha/.local/lib/python3.10/site-packages (from snowflake-connector-python<4.0.0,>=3.12.0->snowflake-snowpark-python) (1.5.1)\n",
      "Requirement already satisfied: cffi<2.0.0,>=1.9 in /usr/local/lib/python3.10/site-packages (from snowflake-connector-python<4.0.0,>=3.12.0->snowflake-snowpark-python) (1.17.1)\n",
      "Requirement already satisfied: cryptography>=3.1.0 in /home/olha/.local/lib/python3.10/site-packages (from snowflake-connector-python<4.0.0,>=3.12.0->snowflake-snowpark-python) (43.0.3)\n",
      "Requirement already satisfied: pyOpenSSL<25.0.0,>=16.2.0 in /home/olha/.local/lib/python3.10/site-packages (from snowflake-connector-python<4.0.0,>=3.12.0->snowflake-snowpark-python) (24.2.1)\n",
      "Requirement already satisfied: pyjwt<3.0.0 in /home/olha/.local/lib/python3.10/site-packages (from snowflake-connector-python<4.0.0,>=3.12.0->snowflake-snowpark-python) (2.10.0)\n",
      "Requirement already satisfied: pytz in /home/olha/.local/lib/python3.10/site-packages (from snowflake-connector-python<4.0.0,>=3.12.0->snowflake-snowpark-python) (2024.2)\n",
      "Requirement already satisfied: requests<3.0.0 in /usr/local/lib/python3.10/site-packages (from snowflake-connector-python<4.0.0,>=3.12.0->snowflake-snowpark-python) (2.32.3)\n",
      "Requirement already satisfied: packaging in /usr/local/lib/python3.10/site-packages (from snowflake-connector-python<4.0.0,>=3.12.0->snowflake-snowpark-python) (24.2)\n",
      "Requirement already satisfied: charset-normalizer<4,>=2 in /usr/local/lib/python3.10/site-packages (from snowflake-connector-python<4.0.0,>=3.12.0->snowflake-snowpark-python) (3.4.0)\n",
      "Requirement already satisfied: idna<4,>=2.5 in /usr/local/lib/python3.10/site-packages (from snowflake-connector-python<4.0.0,>=3.12.0->snowflake-snowpark-python) (3.10)\n",
      "Requirement already satisfied: certifi>=2017.4.17 in /usr/local/lib/python3.10/site-packages (from snowflake-connector-python<4.0.0,>=3.12.0->snowflake-snowpark-python) (2024.8.30)\n",
      "Requirement already satisfied: filelock<4,>=3.5 in /home/olha/.local/lib/python3.10/site-packages (from snowflake-connector-python<4.0.0,>=3.12.0->snowflake-snowpark-python) (3.16.1)\n",
      "Requirement already satisfied: sortedcontainers>=2.4.0 in /home/olha/.local/lib/python3.10/site-packages (from snowflake-connector-python<4.0.0,>=3.12.0->snowflake-snowpark-python) (2.4.0)\n",
      "Requirement already satisfied: platformdirs<5.0.0,>=2.6.0 in /usr/local/lib/python3.10/site-packages (from snowflake-connector-python<4.0.0,>=3.12.0->snowflake-snowpark-python) (4.3.6)\n",
      "Requirement already satisfied: tomlkit in /home/olha/.local/lib/python3.10/site-packages (from snowflake-connector-python<4.0.0,>=3.12.0->snowflake-snowpark-python) (0.13.2)\n",
      "Requirement already satisfied: pycparser in /usr/local/lib/python3.10/site-packages (from cffi<2.0.0,>=1.9->snowflake-connector-python<4.0.0,>=3.12.0->snowflake-snowpark-python) (2.22)\n",
      "Requirement already satisfied: urllib3<3,>=1.21.1 in /usr/local/lib/python3.10/site-packages (from requests<3.0.0->snowflake-connector-python<4.0.0,>=3.12.0->snowflake-snowpark-python) (2.2.3)\n",
      "Note: you may need to restart the kernel to use updated packages.\n"
     ]
    }
   ],
   "source": [
    "\n",
    "%pip install snowflake-connector-python\n",
    "%pip install snowflake-snowpark-python"
   ]
  },
  {
   "cell_type": "code",
   "execution_count": 31,
   "metadata": {},
   "outputs": [],
   "source": [
    "import os\n",
    "import configparser\n",
    "from snowflake.snowpark import Session\n",
    "import snowflake.snowpark.functions as f\n",
    "from snowflake.snowpark.window import Window\n",
    "from datetime import date\n",
    "from snowflake.snowpark.types import ArrayType, VariantType "
   ]
  },
  {
   "cell_type": "code",
   "execution_count": 10,
   "metadata": {},
   "outputs": [
    {
     "data": {
      "text/plain": [
       "['config.ini']"
      ]
     },
     "execution_count": 10,
     "metadata": {},
     "output_type": "execute_result"
    }
   ],
   "source": [
    "config = configparser.ConfigParser()\n",
    "config.read('config.ini')\n"
   ]
  },
  {
   "cell_type": "code",
   "execution_count": 11,
   "metadata": {},
   "outputs": [],
   "source": [
    "\n",
    "def snowpark_session_create():\n",
    "    connection_params = {\n",
    "        \"account\": config.get(\"snowflake\", \"account\"),\n",
    "        \"user\": config.get(\"snowflake\", \"user\"),\n",
    "        \"password\": config.get(\"snowflake\", \"password\"),\n",
    "        \"role\": config.get(\"snowflake\", \"role\"),\n",
    "        \"warehouse\": config.get(\"snowflake\", \"warehouse\"),\n",
    "        \"database\": config.get(\"snowflake\", \"database\"),\n",
    "        \"schema\": config.get(\"snowflake\", \"schema\")\n",
    "    }\n",
    "\n",
    "    session = Session.builder.configs(connection_params).create()\n",
    "    return session\n"
   ]
  },
  {
   "cell_type": "code",
   "execution_count": 12,
   "metadata": {},
   "outputs": [],
   "source": [
    "demo_session = snowpark_session_create()"
   ]
  },
  {
   "cell_type": "code",
   "execution_count": 17,
   "metadata": {},
   "outputs": [
    {
     "name": "stdout",
     "output_type": "stream",
     "text": [
      "----------------------------------------------------------------------------------------------------\n",
      "|\"INGESTION_ID\"  |\"INGESTED_AT\"               |\"DATA\"                                              |\n",
      "----------------------------------------------------------------------------------------------------\n",
      "|1               |2024-11-20 00:52:36.762000  |[                                                   |\n",
      "|                |                            |  {                                                 |\n",
      "|                |                            |    \"creditCardNumber\": \"30211992825494\",           |\n",
      "|                |                            |    \"creditCardType\": \"diners-club-carte-blanche\",  |\n",
      "|                |                            |    \"dateTime\": \"2022-04-06 12:24:38\",              |\n",
      "|                |                            |    \"id\": \"bad9cffb24fd560624859ae0c21f9135f5b0...  |\n",
      "|                |                            |    \"saleAmount\": 302.2                             |\n",
      "|                |                            |  },                                                |\n",
      "|                |                            |  {                                                 |\n",
      "|                |                            |    \"creditCardNumber\": \"4405443328071522\",         |\n",
      "|                |                            |    \"creditCardType\": \"visa-electron\",              |\n",
      "|                |                            |    \"dateTime\": \"2023-02-16 10:21:46\",              |\n",
      "|                |                            |    \"id\": \"f70a7d8263289ad52bc948916d4532521539...  |\n",
      "|                |                            |    \"saleAmount\": 279.17                            |\n",
      "|                |                            |  },                                                |\n",
      "|                |                            |  {                                                 |\n",
      "|                |                            |    \"creditCardNumber\": \"3579855610552574\",         |\n",
      "|                |                            |    \"creditCardType\": \"jcb\",                        |\n",
      "|                |                            |    \"dateTime\": \"2022-06-01 23:16:18\",              |\n",
      "|                |                            |    \"id\": \"fb992d6a592ee80769f142fdaeb6334269f1...  |\n",
      "|                |                            |    \"saleAmount\": 445.47                            |\n",
      "|                |                            |  },                                                |\n",
      "|                |                            |  {                                                 |\n",
      "|                |                            |    \"creditCardNumber\": \"50383603573914002\",        |\n",
      "|                |                            |    \"creditCardType\": \"maestro\",                    |\n",
      "|                |                            |    \"dateTime\": \"2022-06-29 01:56:53\",              |\n",
      "|                |                            |    \"id\": \"6dbdd40dfd3839e4da175301450ed500f6f7...  |\n",
      "|                |                            |    \"saleAmount\": 73.93                             |\n",
      "|                |                            |  },                                                |\n",
      "|                |                            |  {                                                 |\n",
      "|                |                            |    \"creditCardNumber\": \"5602228690840960\",         |\n",
      "|                |                            |    \"creditCardType\": \"bankcard\",                   |\n",
      "|                |                            |    \"dateTime\": \"2022-10-16 22:37:15\",              |\n",
      "|                |                            |    \"id\": \"e102d3a60180098cd3fcdbf5e08e461636ca...  |\n",
      "|                |                            |    \"saleAmount\": 640.69                            |\n",
      "|                |                            |  },                                                |\n",
      "|                |                            |  {                                                 |\n",
      "|                |                            |    \"creditCardNumber\": \"5100144013918382\",         |\n",
      "|                |                            |    \"creditCardType\": \"mastercard\",                 |\n",
      "|                |                            |    \"dateTime\": \"2023-01-18 21:32:30\",              |\n",
      "|                |                            |    \"id\": \"5291eb78808684cde42217736715cb29fb8a...  |\n",
      "|                |                            |    \"saleAmount\": 212.51                            |\n",
      "|                |                            |  },                                                |\n",
      "|                |                            |  {                                                 |\n",
      "|                |                            |    \"creditCardNumber\": \"3566731438126971\",         |\n",
      "|                |                            |    \"creditCardType\": \"jcb\",                        |\n",
      "|                |                            |    \"dateTime\": \"2022-05-22 22:17:52\",              |\n",
      "|                |                            |    \"id\": \"be52606565faf06a546ca1eaf1873f2cbf4d...  |\n",
      "|                |                            |    \"saleAmount\": 633.21                            |\n",
      "|                |                            |  },                                                |\n",
      "|                |                            |  {                                                 |\n",
      "|                |                            |    \"creditCardNumber\": \"3552372594286931\",         |\n",
      "|                |                            |    \"creditCardType\": \"jcb\",                        |\n",
      "|                |                            |    \"dateTime\": \"2022-12-15 01:17:57\",              |\n",
      "|                |                            |    \"id\": \"eeb62e335642e773c8c1ced13fe86c06e96d...  |\n",
      "|                |                            |    \"saleAmount\": 359.57                            |\n",
      "|                |                            |  },                                                |\n",
      "|                |                            |  {                                                 |\n",
      "|                |                            |    \"creditCardNumber\": \"5038306986883304079\",      |\n",
      "|                |                            |    \"creditCardType\": \"maestro\",                    |\n",
      "|                |                            |    \"dateTime\": \"2023-01-03 10:05:00\",              |\n",
      "|                |                            |    \"id\": \"ad187740d176791cd73aab91956c78974b72...  |\n",
      "|                |                            |    \"saleAmount\": 208.23                            |\n",
      "|                |                            |  },                                                |\n",
      "|                |                            |  {                                                 |\n",
      "|                |                            |    \"creditCardNumber\": \"3535351427856427\",         |\n",
      "|                |                            |    \"creditCardType\": \"jcb\",                        |\n",
      "|                |                            |    \"dateTime\": \"2022-08-31 13:54:49\",              |\n",
      "|                |                            |    \"id\": \"61d49b03b011efc73e536560cc43f1d6c3a5...  |\n",
      "|                |                            |    \"saleAmount\": 725.71                            |\n",
      "|                |                            |  }                                                 |\n",
      "|                |                            |]                                                   |\n",
      "----------------------------------------------------------------------------------------------------\n",
      "\n"
     ]
    }
   ],
   "source": [
    "df = demo_session.sql(\"SELECT * FROM DEMO.RAW.RAW_CREDIT_SALES \")\n",
    "df.show()\n"
   ]
  },
  {
   "cell_type": "code",
   "execution_count": 20,
   "metadata": {},
   "outputs": [
    {
     "data": {
      "text/plain": [
       "<snowflake.snowpark.table.Table at 0x718c2ea92d10>"
      ]
     },
     "execution_count": 20,
     "metadata": {},
     "output_type": "execute_result"
    }
   ],
   "source": [
    "demo_session.use_database(\"demo\")\n",
    "demo_session.use_schema(\"raw\")\n",
    "demo_session.table(\"raw_credit_sales\")\n",
    "demo_session.table(\"raw_credit_sales_items\")"
   ]
  },
  {
   "cell_type": "code",
   "execution_count": 21,
   "metadata": {},
   "outputs": [
    {
     "name": "stdout",
     "output_type": "stream",
     "text": [
      "----------------------------------------------------------------------------------------------------\n",
      "|\"INGESTION_ID\"  |\"INGESTED_AT\"               |\"DATA\"                                              |\n",
      "----------------------------------------------------------------------------------------------------\n",
      "|1               |2024-11-20 01:06:59.493000  |[                                                   |\n",
      "|                |                            |  {                                                 |\n",
      "|                |                            |    \"creditCardNumber\": \"30211992825494\",           |\n",
      "|                |                            |    \"dateTime\": \"2022-04-06 12:24:38\",              |\n",
      "|                |                            |    \"id\": \"bad9cffb24fd560624859ae0c21f9135f5b0...  |\n",
      "|                |                            |    \"items\": [                                      |\n",
      "|                |                            |      \"T-shirt\",                                    |\n",
      "|                |                            |      \"Jeans\",                                      |\n",
      "|                |                            |      \"Sneakers\"                                    |\n",
      "|                |                            |    ]                                               |\n",
      "|                |                            |  },                                                |\n",
      "|                |                            |  {                                                 |\n",
      "|                |                            |    \"creditCardNumber\": \"4405443328071522\",         |\n",
      "|                |                            |    \"dateTime\": \"2023-02-16 10:21:46\",              |\n",
      "|                |                            |    \"id\": \"f70a7d8263289ad52bc948916d4532521539...  |\n",
      "|                |                            |    \"items\": [                                      |\n",
      "|                |                            |      \"Dress\",                                      |\n",
      "|                |                            |      \"Sandals\"                                     |\n",
      "|                |                            |    ]                                               |\n",
      "|                |                            |  },                                                |\n",
      "|                |                            |  {                                                 |\n",
      "|                |                            |    \"creditCardNumber\": \"3579855610552574\",         |\n",
      "|                |                            |    \"dateTime\": \"2022-06-01 23:16:18\",              |\n",
      "|                |                            |    \"id\": \"fb992d6a592ee80769f142fdaeb6334269f1...  |\n",
      "|                |                            |    \"items\": [                                      |\n",
      "|                |                            |      \"Shirt\",                                      |\n",
      "|                |                            |      \"Shorts\",                                     |\n",
      "|                |                            |      \"Flip flops\"                                  |\n",
      "|                |                            |    ]                                               |\n",
      "|                |                            |  },                                                |\n",
      "|                |                            |  {                                                 |\n",
      "|                |                            |    \"creditCardNumber\": \"50383603573914002\",        |\n",
      "|                |                            |    \"dateTime\": \"2022-06-29 01:56:53\",              |\n",
      "|                |                            |    \"id\": \"6dbdd40dfd3839e4da175301450ed500f6f7...  |\n",
      "|                |                            |    \"items\": [                                      |\n",
      "|                |                            |      \"Blouse\",                                     |\n",
      "|                |                            |      \"Skirt\",                                      |\n",
      "|                |                            |      \"Heels\"                                       |\n",
      "|                |                            |    ]                                               |\n",
      "|                |                            |  },                                                |\n",
      "|                |                            |  {                                                 |\n",
      "|                |                            |    \"creditCardNumber\": \"5602228690840960\",         |\n",
      "|                |                            |    \"dateTime\": \"2022-10-16 22:37:15\",              |\n",
      "|                |                            |    \"id\": \"e102d3a60180098cd3fcdbf5e08e461636ca...  |\n",
      "|                |                            |    \"items\": [                                      |\n",
      "|                |                            |      \"Sweater\",                                    |\n",
      "|                |                            |      \"Pants\",                                      |\n",
      "|                |                            |      \"Boots\"                                       |\n",
      "|                |                            |    ]                                               |\n",
      "|                |                            |  },                                                |\n",
      "|                |                            |  {                                                 |\n",
      "|                |                            |    \"creditCardNumber\": \"5100144013918382\",         |\n",
      "|                |                            |    \"dateTime\": \"2023-01-18 21:32:30\",              |\n",
      "|                |                            |    \"id\": \"5291eb78808684cde42217736715cb29fb8a...  |\n",
      "|                |                            |    \"items\": [                                      |\n",
      "|                |                            |      \"Jacket\",                                     |\n",
      "|                |                            |      \"Jeans\"                                       |\n",
      "|                |                            |    ]                                               |\n",
      "|                |                            |  },                                                |\n",
      "|                |                            |  {                                                 |\n",
      "|                |                            |    \"creditCardNumber\": \"3566731438126971\",         |\n",
      "|                |                            |    \"dateTime\": \"2022-05-22 22:17:52\",              |\n",
      "|                |                            |    \"id\": \"be52606565faf06a546ca1eaf1873f2cbf4d...  |\n",
      "|                |                            |    \"items\": [                                      |\n",
      "|                |                            |      \"Hoodie\",                                     |\n",
      "|                |                            |      \"Leggings\",                                   |\n",
      "|                |                            |      \"Sneakers\"                                    |\n",
      "|                |                            |    ]                                               |\n",
      "|                |                            |  },                                                |\n",
      "|                |                            |  {                                                 |\n",
      "|                |                            |    \"creditCardNumber\": \"3552372594286931\",         |\n",
      "|                |                            |    \"dateTime\": \"2022-12-15 01:17:57\",              |\n",
      "|                |                            |    \"id\": \"eeb62e335642e773c8c1ced13fe86c06e96d...  |\n",
      "|                |                            |    \"items\": [                                      |\n",
      "|                |                            |      \"Polo shirt\",                                 |\n",
      "|                |                            |      \"Shorts\",                                     |\n",
      "|                |                            |      \"Sandals\"                                     |\n",
      "|                |                            |    ]                                               |\n",
      "|                |                            |  },                                                |\n",
      "|                |                            |  {                                                 |\n",
      "|                |                            |    \"creditCardNumber\": \"5038306986883304079\",      |\n",
      "|                |                            |    \"dateTime\": \"2023-01-03 10:05:00\",              |\n",
      "|                |                            |    \"id\": \"ad187740d176791cd73aab91956c78974b72...  |\n",
      "|                |                            |    \"items\": [                                      |\n",
      "|                |                            |      \"Blue Jeans\",                                 |\n",
      "|                |                            |      \"White T-shirt\",                              |\n",
      "|                |                            |      \"Black Sneakers\"                              |\n",
      "|                |                            |    ]                                               |\n",
      "|                |                            |  },                                                |\n",
      "|                |                            |  {                                                 |\n",
      "|                |                            |    \"creditCardNumber\": \"3535351427856427\",         |\n",
      "|                |                            |    \"dateTime\": \"2022-08-31 13:54:49\",              |\n",
      "|                |                            |    \"id\": \"61d49b03b011efc73e536560cc43f1d6c3a5...  |\n",
      "|                |                            |    \"items\": [                                      |\n",
      "|                |                            |      \"Striped Dress\",                              |\n",
      "|                |                            |      \"Silver Earrings\",                            |\n",
      "|                |                            |      \"Brown Sandals\",                              |\n",
      "|                |                            |      \"Leather Belt\"                                |\n",
      "|                |                            |    ]                                               |\n",
      "|                |                            |  }                                                 |\n",
      "|                |                            |]                                                   |\n",
      "----------------------------------------------------------------------------------------------------\n",
      "\n"
     ]
    }
   ],
   "source": [
    "sales_items = demo_session.table(\"raw_credit_sales_items\")\n",
    "sales_items.show()"
   ]
  },
  {
   "cell_type": "markdown",
   "metadata": {},
   "source": [
    "transform data into structured format "
   ]
  },
  {
   "cell_type": "code",
   "execution_count": 23,
   "metadata": {},
   "outputs": [
    {
     "name": "stdout",
     "output_type": "stream",
     "text": [
      "------------------------------------------------------------------------------------------------------------------------------------------------------------------------------------------------------\n",
      "|\"INGESTION_ID\"  |\"INGESTED_AT\"               |\"CREDIT_CARD_NUMBER\"  |\"DATE_TIME\"          |\"ID\"                                                |\"ITEMS\"                                             |\n",
      "------------------------------------------------------------------------------------------------------------------------------------------------------------------------------------------------------\n",
      "|1               |2024-11-20 01:06:59.493000  |30211992825494        |2022-04-06 12:24:38  |bad9cffb24fd560624859ae0c21f9135f5b005673dbd1d5...  |[\"T-shirt\",\"Jeans\",\"Sneakers\"]                      |\n",
      "|1               |2024-11-20 01:06:59.493000  |4405443328071522      |2023-02-16 10:21:46  |f70a7d8263289ad52bc948916d45325215396c6d8910405...  |[\"Dress\",\"Sandals\"]                                 |\n",
      "|1               |2024-11-20 01:06:59.493000  |3579855610552574      |2022-06-01 23:16:18  |fb992d6a592ee80769f142fdaeb6334269f1f541fb13dce...  |[\"Shirt\",\"Shorts\",\"Flip flops\"]                     |\n",
      "|1               |2024-11-20 01:06:59.493000  |50383603573914002     |2022-06-29 01:56:53  |6dbdd40dfd3839e4da175301450ed500f6f78f6d4f1fdf8...  |[\"Blouse\",\"Skirt\",\"Heels\"]                          |\n",
      "|1               |2024-11-20 01:06:59.493000  |5602228690840960      |2022-10-16 22:37:15  |e102d3a60180098cd3fcdbf5e08e461636ca4d21f413bd8...  |[\"Sweater\",\"Pants\",\"Boots\"]                         |\n",
      "|1               |2024-11-20 01:06:59.493000  |5100144013918382      |2023-01-18 21:32:30  |5291eb78808684cde42217736715cb29fb8ade849954536...  |[\"Jacket\",\"Jeans\"]                                  |\n",
      "|1               |2024-11-20 01:06:59.493000  |3566731438126971      |2022-05-22 22:17:52  |be52606565faf06a546ca1eaf1873f2cbf4d4863028bca5...  |[\"Hoodie\",\"Leggings\",\"Sneakers\"]                    |\n",
      "|1               |2024-11-20 01:06:59.493000  |3552372594286931      |2022-12-15 01:17:57  |eeb62e335642e773c8c1ced13fe86c06e96d08633263ac6...  |[\"Polo shirt\",\"Shorts\",\"Sandals\"]                   |\n",
      "|1               |2024-11-20 01:06:59.493000  |5038306986883304079   |2023-01-03 10:05:00  |ad187740d176791cd73aab91956c78974b720a6f4641a22...  |[\"Blue Jeans\",\"White T-shirt\",\"Black Sneakers\"]     |\n",
      "|1               |2024-11-20 01:06:59.493000  |3535351427856427      |2022-08-31 13:54:49  |61d49b03b011efc73e536560cc43f1d6c3a553434148376...  |[\"Striped Dress\",\"Silver Earrings\",\"Brown Sanda...  |\n",
      "------------------------------------------------------------------------------------------------------------------------------------------------------------------------------------------------------\n",
      "\n"
     ]
    }
   ],
   "source": [
    "#lit funct creates a column\n",
    "sales_items_strcd = (\n",
    "    sales_items.join_table_function(\"flatten\",f.col(\"data\"))\n",
    "    .withColumn(\"credit_card_number\",f.json_extract_path_text(\"value\",f.lit(\"creditCardNumber\")) )\n",
    "    .withColumn(\"date_time\",f.json_extract_path_text(\"value\",f.lit(\"dateTime\")))\n",
    "    .withColumn(\"id\",f.json_extract_path_text(\"value\",f.lit(\"id\")))\n",
    "    .withColumn(\"items\",f.json_extract_path_text(\"value\",f.lit(\"items\")))\n",
    "    .select(\"ingestion_id\",\"ingested_at\",\"credit_card_number\",\"date_time\",\"id\",\"items\")\n",
    ")\n",
    "\n",
    "sales_items_strcd.show()"
   ]
  },
  {
   "cell_type": "markdown",
   "metadata": {},
   "source": [
    "creating a stage for udf"
   ]
  },
  {
   "cell_type": "code",
   "execution_count": 26,
   "metadata": {},
   "outputs": [
    {
     "data": {
      "text/plain": [
       "[Row(status='Stage area DEMO_STAGE successfully created.')]"
      ]
     },
     "execution_count": 26,
     "metadata": {},
     "output_type": "execute_result"
    }
   ],
   "source": [
    "demo_session.sql(\"create or replace stage demo_stage\").collect()"
   ]
  },
  {
   "cell_type": "code",
   "execution_count": null,
   "metadata": {},
   "outputs": [],
   "source": []
  },
  {
   "cell_type": "code",
   "execution_count": 27,
   "metadata": {},
   "outputs": [
    {
     "data": {
      "text/plain": [
       "[PutResult(source='udf.py', target='udf.py', source_size=56, target_size=64, source_compression='NONE', target_compression='NONE', status='UPLOADED', message='')]"
      ]
     },
     "execution_count": 27,
     "metadata": {},
     "output_type": "execute_result"
    }
   ],
   "source": [
    "demo_session.file.put(\"udf.py\",\"@demo_stage\",auto_compress=False)"
   ]
  },
  {
   "cell_type": "code",
   "execution_count": 33,
   "metadata": {},
   "outputs": [],
   "source": [
    "#we need to register the udf from the srage\n",
    "sort_items = demo_session.udf.register_from_file(\n",
    "    file_path=\"@demo_stage/udf.py\",\n",
    "    func_name=\"sortitems\",\n",
    "    return_type=ArrayType(),\n",
    "    input_types=[VariantType()],\n",
    "    name=\"sort_items\",\n",
    "    replace=True,\n",
    "    stage_location=\"@demo_stage\",\n",
    "    is_permanent=True\n",
    ")"
   ]
  },
  {
   "cell_type": "code",
   "execution_count": 34,
   "metadata": {},
   "outputs": [],
   "source": [
    "sales_items_strcd_wudf = ( \n",
    "    sales_items.join_table_function(\"flatten\",f.col(\"data\"))\n",
    "    .withColumn(\"credit_card_number\",f.json_extract_path_text(\"value\",f.lit(\"creditCardNumber\")) )\n",
    "    .withColumn(\"date_time\",f.json_extract_path_text(\"value\",f.lit(\"dateTime\")))\n",
    "    .withColumn(\"id\",f.json_extract_path_text(\"value\",f.lit(\"id\")))\n",
    "    .withColumn(\"items\",sort_items(f.parse_json(f.json_extract_path_text(\"value\",f.lit(\"items\")))))\n",
    "    .select(\"ingestion_id\",\"ingested_at\",\"credit_card_number\",\"date_time\",\"id\",\"items\"))"
   ]
  },
  {
   "cell_type": "code",
   "execution_count": 35,
   "metadata": {},
   "outputs": [
    {
     "name": "stdout",
     "output_type": "stream",
     "text": [
      "------------------------------------------------------------------------------------------------------------------------------------------------------------------------\n",
      "|\"INGESTION_ID\"  |\"INGESTED_AT\"               |\"CREDIT_CARD_NUMBER\"  |\"DATE_TIME\"          |\"ID\"                                                |\"ITEMS\"               |\n",
      "------------------------------------------------------------------------------------------------------------------------------------------------------------------------\n",
      "|1               |2024-11-20 01:06:59.493000  |30211992825494        |2022-04-06 12:24:38  |bad9cffb24fd560624859ae0c21f9135f5b005673dbd1d5...  |[                     |\n",
      "|                |                            |                      |                     |                                                    |  \"Jeans\",            |\n",
      "|                |                            |                      |                     |                                                    |  \"Sneakers\",         |\n",
      "|                |                            |                      |                     |                                                    |  \"T-shirt\"           |\n",
      "|                |                            |                      |                     |                                                    |]                     |\n",
      "|1               |2024-11-20 01:06:59.493000  |4405443328071522      |2023-02-16 10:21:46  |f70a7d8263289ad52bc948916d45325215396c6d8910405...  |[                     |\n",
      "|                |                            |                      |                     |                                                    |  \"Dress\",            |\n",
      "|                |                            |                      |                     |                                                    |  \"Sandals\"           |\n",
      "|                |                            |                      |                     |                                                    |]                     |\n",
      "|1               |2024-11-20 01:06:59.493000  |3579855610552574      |2022-06-01 23:16:18  |fb992d6a592ee80769f142fdaeb6334269f1f541fb13dce...  |[                     |\n",
      "|                |                            |                      |                     |                                                    |  \"Flip flops\",       |\n",
      "|                |                            |                      |                     |                                                    |  \"Shirt\",            |\n",
      "|                |                            |                      |                     |                                                    |  \"Shorts\"            |\n",
      "|                |                            |                      |                     |                                                    |]                     |\n",
      "|1               |2024-11-20 01:06:59.493000  |50383603573914002     |2022-06-29 01:56:53  |6dbdd40dfd3839e4da175301450ed500f6f78f6d4f1fdf8...  |[                     |\n",
      "|                |                            |                      |                     |                                                    |  \"Blouse\",           |\n",
      "|                |                            |                      |                     |                                                    |  \"Heels\",            |\n",
      "|                |                            |                      |                     |                                                    |  \"Skirt\"             |\n",
      "|                |                            |                      |                     |                                                    |]                     |\n",
      "|1               |2024-11-20 01:06:59.493000  |5602228690840960      |2022-10-16 22:37:15  |e102d3a60180098cd3fcdbf5e08e461636ca4d21f413bd8...  |[                     |\n",
      "|                |                            |                      |                     |                                                    |  \"Boots\",            |\n",
      "|                |                            |                      |                     |                                                    |  \"Pants\",            |\n",
      "|                |                            |                      |                     |                                                    |  \"Sweater\"           |\n",
      "|                |                            |                      |                     |                                                    |]                     |\n",
      "|1               |2024-11-20 01:06:59.493000  |5100144013918382      |2023-01-18 21:32:30  |5291eb78808684cde42217736715cb29fb8ade849954536...  |[                     |\n",
      "|                |                            |                      |                     |                                                    |  \"Jacket\",           |\n",
      "|                |                            |                      |                     |                                                    |  \"Jeans\"             |\n",
      "|                |                            |                      |                     |                                                    |]                     |\n",
      "|1               |2024-11-20 01:06:59.493000  |3566731438126971      |2022-05-22 22:17:52  |be52606565faf06a546ca1eaf1873f2cbf4d4863028bca5...  |[                     |\n",
      "|                |                            |                      |                     |                                                    |  \"Hoodie\",           |\n",
      "|                |                            |                      |                     |                                                    |  \"Leggings\",         |\n",
      "|                |                            |                      |                     |                                                    |  \"Sneakers\"          |\n",
      "|                |                            |                      |                     |                                                    |]                     |\n",
      "|1               |2024-11-20 01:06:59.493000  |3552372594286931      |2022-12-15 01:17:57  |eeb62e335642e773c8c1ced13fe86c06e96d08633263ac6...  |[                     |\n",
      "|                |                            |                      |                     |                                                    |  \"Polo shirt\",       |\n",
      "|                |                            |                      |                     |                                                    |  \"Sandals\",          |\n",
      "|                |                            |                      |                     |                                                    |  \"Shorts\"            |\n",
      "|                |                            |                      |                     |                                                    |]                     |\n",
      "|1               |2024-11-20 01:06:59.493000  |5038306986883304079   |2023-01-03 10:05:00  |ad187740d176791cd73aab91956c78974b720a6f4641a22...  |[                     |\n",
      "|                |                            |                      |                     |                                                    |  \"Black Sneakers\",   |\n",
      "|                |                            |                      |                     |                                                    |  \"Blue Jeans\",       |\n",
      "|                |                            |                      |                     |                                                    |  \"White T-shirt\"     |\n",
      "|                |                            |                      |                     |                                                    |]                     |\n",
      "|1               |2024-11-20 01:06:59.493000  |3535351427856427      |2022-08-31 13:54:49  |61d49b03b011efc73e536560cc43f1d6c3a553434148376...  |[                     |\n",
      "|                |                            |                      |                     |                                                    |  \"Brown Sandals\",    |\n",
      "|                |                            |                      |                     |                                                    |  \"Leather Belt\",     |\n",
      "|                |                            |                      |                     |                                                    |  \"Silver Earrings\",  |\n",
      "|                |                            |                      |                     |                                                    |  \"Striped Dress\"     |\n",
      "|                |                            |                      |                     |                                                    |]                     |\n",
      "------------------------------------------------------------------------------------------------------------------------------------------------------------------------\n",
      "\n"
     ]
    }
   ],
   "source": [
    "sales_items_strcd_wudf.show()"
   ]
  },
  {
   "cell_type": "markdown",
   "metadata": {},
   "source": [
    "we can save this table now :)"
   ]
  },
  {
   "cell_type": "code",
   "execution_count": 36,
   "metadata": {},
   "outputs": [],
   "source": [
    "sales_items_strcd_wudf.write.mode(\"overwrite\").save_as_table(\"sales_items\")"
   ]
  }
 ],
 "metadata": {
  "kernelspec": {
   "display_name": "Python 3",
   "language": "python",
   "name": "python3"
  },
  "language_info": {
   "codemirror_mode": {
    "name": "ipython",
    "version": 3
   },
   "file_extension": ".py",
   "mimetype": "text/x-python",
   "name": "python",
   "nbconvert_exporter": "python",
   "pygments_lexer": "ipython3",
   "version": "3.10.13"
  }
 },
 "nbformat": 4,
 "nbformat_minor": 2
}
